{
 "cells": [
  {
   "cell_type": "code",
   "execution_count": 1,
   "id": "4c159c66-92d6-46cc-8292-e2cbd10da582",
   "metadata": {},
   "outputs": [],
   "source": [
    "using DynamicPolynomials,LinearAlgebra\n",
    "using JuMP\n",
    "import HiGHS"
   ]
  },
  {
   "cell_type": "markdown",
   "id": "0d5a5822-a263-4e27-92aa-75840b9de969",
   "metadata": {},
   "source": [
    "# Step 1 Match Polynomials\n",
    "$b*monomials=b_1*f_1 + b_2*f_2...$"
   ]
  },
  {
   "cell_type": "code",
   "execution_count": 2,
   "id": "b38b23dc-ec8b-405a-a8e4-94936031a279",
   "metadata": {
    "tags": []
   },
   "outputs": [
    {
     "data": {
      "text/plain": [
       "getLP (generic function with 1 method)"
      ]
     },
     "execution_count": 2,
     "metadata": {},
     "output_type": "execute_result"
    }
   ],
   "source": [
    "function getLP(poly,arrayOfPolynomials,var)\n",
    "    d = maxdegree(poly)\n",
    "    base=monomials(var,d)\n",
    "    b=coefficients(poly,base)\n",
    "    c=[]\n",
    "    nVars=[]\n",
    "    for f in arrayOfPolynomials\n",
    "        deg=d - maxdegree(f)\n",
    "        push!(nVars,size(monomials(var,deg))[1])\n",
    "        l = []\n",
    "        for g in monomials(var,deg)\n",
    "            basepoly=g*f\n",
    "            push!(l,coefficients(basepoly,monomials(var,d)))\n",
    "        end\n",
    "        l=transpose(reduce(vcat,transpose.(l)))\n",
    "        push!(c,l)\n",
    "    end\n",
    "    c=transpose(reduce(vcat,transpose.(c)))\n",
    "    \n",
    "    #Create Linear Program\n",
    "    m = size(b,1) #Number of Monomials in Polynom to Match\n",
    "    LP = Model(HiGHS.Optimizer) # Initialize Model\n",
    "    n=size(c,2) # Number of Variables\n",
    "    @variable(LP, u[1:n]>=0)\n",
    "    for i in 1:m\n",
    "        @constraint(LP, sum(dot(u,c[i,:])) == b[i])\n",
    "    end\n",
    "    print(LP)\n",
    "    return (LP,u,b,c,nVars)\n",
    "end"
   ]
  },
  {
   "cell_type": "code",
   "execution_count": 3,
   "id": "52b91c8a-2246-498f-a179-e923e9d959a3",
   "metadata": {},
   "outputs": [
    {
     "data": {
      "text/plain": [
       "getSolution (generic function with 1 method)"
      ]
     },
     "execution_count": 3,
     "metadata": {},
     "output_type": "execute_result"
    }
   ],
   "source": [
    "function getSolution(poly,arrayOfPolynomials,var)\n",
    "    LP,u,b,c,n = getLP(poly,arrayOfPolynomials,var)\n",
    "    optimize!(LP)\n",
    "    sol=JuMP.value.(u)\n",
    "    walk=1\n",
    "    c=[]\n",
    "    solPoly=[]\n",
    "    for (j,i) in enumerate(n)\n",
    "        coeff = view(sol,walk:walk+i-1)\n",
    "        base = monomials(x,maxdegree(e)-maxdegree(F[j]))\n",
    "        push!(solPoly,polynomial(coeff,base))\n",
    "        push!(c,coeff)\n",
    "        walk+=i\n",
    "    end\n",
    "    return solPoly\n",
    "end"
   ]
  },
  {
   "cell_type": "markdown",
   "id": "f9ad1a21-cfe8-4103-8a7b-6b01b3395664",
   "metadata": {},
   "source": [
    "## Example Functions"
   ]
  },
  {
   "cell_type": "code",
   "execution_count": 4,
   "id": "e007ad44-da9d-4102-b28f-94611a8e6c8d",
   "metadata": {},
   "outputs": [
    {
     "data": {
      "text/latex": [
       "$$ 3x_{1}^{2} + x_{1}x_{2} + x_{1}x_{3} - 2x_{2}^{2} - 4x_{2}x_{3} - 2x_{3}^{2} $$"
      ],
      "text/plain": [
       "3x₁² + x₁x₂ + x₁x₃ - 2x₂² - 4x₂x₃ - 2x₃²"
      ]
     },
     "execution_count": 4,
     "metadata": {},
     "output_type": "execute_result"
    }
   ],
   "source": [
    "@polyvar x[1:3]\n",
    "h = 3x[1] - 2x[2] - 2x[3]\n",
    "f1 = 1 + 0*x[1]\n",
    "f2 = x[1]-x[2]\n",
    "f3 = x[1]-x[3]\n",
    "f4 = x[1]^2 - 4x[2]x[3]\n",
    "F=[f1,f2,f3,f4]\n",
    "e=polynomial(monomials(x,1))*h"
   ]
  },
  {
   "cell_type": "code",
   "execution_count": 5,
   "id": "39c0c9d1-70be-460d-b09a-85506db85e93",
   "metadata": {},
   "outputs": [
    {
     "data": {
      "text/latex": [
       "$$ \\begin{aligned}\n",
       "\\text{feasibility}\\\\\n",
       "\\text{Subject to} \\quad & u_{1} + u_{7} + u_{10} + u_{13} = 3.0\\\\\n",
       " & u_{2} - u_{7} + u_{8} + u_{11} = 1.0\\\\\n",
       " & u_{3} + u_{9} - u_{10} + u_{12} = 1.0\\\\\n",
       " & u_{4} - u_{8} = -2.0\\\\\n",
       " & u_{5} - u_{9} - u_{11} - 4 u_{13} = -4.0\\\\\n",
       " & u_{6} - u_{12} = -2.0\\\\\n",
       " & u_{1} \\geq 0.0\\\\\n",
       " & u_{2} \\geq 0.0\\\\\n",
       " & u_{3} \\geq 0.0\\\\\n",
       " & u_{4} \\geq 0.0\\\\\n",
       " & u_{5} \\geq 0.0\\\\\n",
       " & u_{6} \\geq 0.0\\\\\n",
       " & u_{7} \\geq 0.0\\\\\n",
       " & u_{8} \\geq 0.0\\\\\n",
       " & u_{9} \\geq 0.0\\\\\n",
       " & u_{10} \\geq 0.0\\\\\n",
       " & u_{11} \\geq 0.0\\\\\n",
       " & u_{12} \\geq 0.0\\\\\n",
       " & u_{13} \\geq 0.0\\\\\n",
       "\\end{aligned} $$"
      ]
     },
     "metadata": {},
     "output_type": "display_data"
    },
    {
     "name": "stdout",
     "output_type": "stream",
     "text": [
      "Presolving model\n",
      "4 rows, 9 cols, 14 nonzeros\n",
      "2 rows, 7 cols, 10 nonzeros\n",
      "2 rows, 4 cols, 6 nonzeros\n",
      "2 rows, 4 cols, 6 nonzeros\n",
      "Presolve : Reductions: rows 2(-4); columns 4(-9); elements 6(-14)\n",
      "Solving the presolved LP\n",
      "Using EKK dual simplex solver - serial\n",
      "  Iteration        Objective     Infeasibilities num(sum)\n",
      "          0     0.0000000000e+00 Pr: 2(5) 0s\n",
      "          1     0.0000000000e+00 Pr: 0(0) 0s\n",
      "Solving the original LP from the solution after postsolve\n",
      "Model   status      : Optimal\n",
      "Simplex   iterations: 1\n",
      "Objective value     :  0.0000000000e+00\n",
      "HiGHS run time      :          0.00\n"
     ]
    },
    {
     "data": {
      "text/plain": [
       "4-element Vector{Any}:\n",
       " 0.0\n",
       " x₁ + 2.0x₂\n",
       " x₁ + 2.0x₃\n",
       " 1.0"
      ]
     },
     "execution_count": 5,
     "metadata": {},
     "output_type": "execute_result"
    }
   ],
   "source": [
    "getSolution(e,F,x)"
   ]
  },
  {
   "cell_type": "code",
   "execution_count": null,
   "id": "f71dc6db-1311-42f0-8f58-73cad7152354",
   "metadata": {},
   "outputs": [],
   "source": []
  }
 ],
 "metadata": {
  "kernelspec": {
   "display_name": "Julia 1.7.3",
   "language": "julia",
   "name": "julia-1.7"
  },
  "language_info": {
   "file_extension": ".jl",
   "mimetype": "application/julia",
   "name": "julia",
   "version": "1.7.3"
  }
 },
 "nbformat": 4,
 "nbformat_minor": 5
}
