{
 "cells": [
  {
   "cell_type": "code",
   "execution_count": 1,
   "id": "4c159c66-92d6-46cc-8292-e2cbd10da582",
   "metadata": {},
   "outputs": [],
   "source": [
    "using DynamicPolynomials,LinearAlgebra\n",
    "using JuMP\n",
    "import HiGHS"
   ]
  },
  {
   "cell_type": "markdown",
   "id": "0d5a5822-a263-4e27-92aa-75840b9de969",
   "metadata": {},
   "source": [
    "# Step 1 Match Polynomials\n",
    "$b*monomials=b_1*f_1 + b_2*f_2...$"
   ]
  },
  {
   "cell_type": "code",
   "execution_count": 9,
   "id": "b38b23dc-ec8b-405a-a8e4-94936031a279",
   "metadata": {
    "tags": []
   },
   "outputs": [
    {
     "data": {
      "text/plain": [
       "getLP (generic function with 1 method)"
      ]
     },
     "execution_count": 9,
     "metadata": {},
     "output_type": "execute_result"
    }
   ],
   "source": [
    "function getLP(poly,arrayOfPolynomials,var)\n",
    "    d = maxdegree(poly)\n",
    "    base=monomials(var,d)\n",
    "    b=coefficients(poly,base)\n",
    "    c=[]\n",
    "    nVars=[]\n",
    "    for f in arrayOfPolynomials\n",
    "        deg=d - maxdegree(f)\n",
    "        push!(nVars,size(monomials(var,deg))[1])\n",
    "        l = []\n",
    "        for g in monomials(var,deg)\n",
    "            basepoly=g*f\n",
    "            push!(l,coefficients(basepoly,monomials(var,d)))\n",
    "        end\n",
    "        l=transpose(reduce(vcat,transpose.(l)))\n",
    "        push!(c,l)\n",
    "    end\n",
    "    c=transpose(reduce(vcat,transpose.(c)))\n",
    "    \n",
    "    #Create Linear Program\n",
    "    m = size(b,1) #Number of Monomials in Polynom to Match\n",
    "    LP = Model(HiGHS.Optimizer) # Initialize Model\n",
    "    set_optimizer_attribute(LP, \"log_to_console\", \"false\") # disable debug info\n",
    "    n=size(c,2) # Number of Variables\n",
    "    @variable(LP, u[1:n]>=0)\n",
    "    for i in 1:m\n",
    "        @constraint(LP, sum(dot(u,c[i,:])) == b[i])\n",
    "    end\n",
    "    # print(LP)\n",
    "    return (LP,u,b,c,nVars)\n",
    "end"
   ]
  },
  {
   "cell_type": "code",
   "execution_count": 3,
   "id": "52b91c8a-2246-498f-a179-e923e9d959a3",
   "metadata": {},
   "outputs": [
    {
     "data": {
      "text/plain": [
       "getSolution (generic function with 1 method)"
      ]
     },
     "execution_count": 3,
     "metadata": {},
     "output_type": "execute_result"
    }
   ],
   "source": [
    "function getSolution(poly,arrayOfPolynomials,var)\n",
    "    LP,u,b,c,n = getLP(poly,arrayOfPolynomials,var)\n",
    "    print(LP)\n",
    "    JuMP.optimize!(LP)\n",
    "    if JuMP.has_values(LP)\n",
    "        sol=JuMP.value.(u)\n",
    "        walk=1\n",
    "        c=[]\n",
    "        solPoly=[]\n",
    "        for (j,i) in enumerate(n)\n",
    "            coeff = view(sol,walk:walk+i-1)\n",
    "            base = monomials(x,maxdegree(e)-maxdegree(F[j]))\n",
    "            push!(solPoly,polynomial(coeff,base))\n",
    "            push!(c,coeff)\n",
    "            walk+=i\n",
    "        end\n",
    "        return solPoly\n",
    "    else\n",
    "        return false\n",
    "    end\n",
    "end"
   ]
  },
  {
   "cell_type": "markdown",
   "id": "f9ad1a21-cfe8-4103-8a7b-6b01b3395664",
   "metadata": {},
   "source": [
    "## Example Functions"
   ]
  },
  {
   "cell_type": "code",
   "execution_count": 4,
   "id": "e007ad44-da9d-4102-b28f-94611a8e6c8d",
   "metadata": {},
   "outputs": [
    {
     "data": {
      "text/latex": [
       "$$ 3x_{1}^{2} + x_{1}x_{2} + x_{1}x_{3} - 2x_{2}^{2} - 4x_{2}x_{3} - 2x_{3}^{2} $$"
      ],
      "text/plain": [
       "3x₁² + x₁x₂ + x₁x₃ - 2x₂² - 4x₂x₃ - 2x₃²"
      ]
     },
     "execution_count": 4,
     "metadata": {},
     "output_type": "execute_result"
    }
   ],
   "source": [
    "@polyvar x[1:3]\n",
    "h = 3x[1] - 2x[2] - 2x[3]\n",
    "f1 = 1 + 0*x[1]\n",
    "f2 = x[1]-x[2]\n",
    "f3 = x[1]-x[3]\n",
    "f4 = x[1]^2 - 4x[2]x[3]\n",
    "F=[f1,f2,f3,f4]\n",
    "e=polynomial(monomials(x,1))*h"
   ]
  },
  {
   "cell_type": "code",
   "execution_count": 5,
   "id": "858efaf9-6046-4814-8a8e-8aea13c7f389",
   "metadata": {},
   "outputs": [
    {
     "data": {
      "text/latex": [
       "$$ 3x_{1}^{5} + 10x_{1}^{4}x_{2} + 10x_{1}^{4}x_{3} + 10x_{1}^{3}x_{2}^{2} + 20x_{1}^{3}x_{2}x_{3} + 10x_{1}^{3}x_{3}^{2} - 5x_{1}x_{2}^{4} - 20x_{1}x_{2}^{3}x_{3} - 30x_{1}x_{2}^{2}x_{3}^{2} - 20x_{1}x_{2}x_{3}^{3} - 5x_{1}x_{3}^{4} - 2x_{2}^{5} - 10x_{2}^{4}x_{3} - 20x_{2}^{3}x_{3}^{2} - 20x_{2}^{2}x_{3}^{3} - 10x_{2}x_{3}^{4} - 2x_{3}^{5} $$"
      ],
      "text/plain": [
       "3x₁⁵ + 10x₁⁴x₂ + 10x₁⁴x₃ + 10x₁³x₂² + 20x₁³x₂x₃ + 10x₁³x₃² - 5x₁x₂⁴ - 20x₁x₂³x₃ - 30x₁x₂²x₃² - 20x₁x₂x₃³ - 5x₁x₃⁴ - 2x₂⁵ - 10x₂⁴x₃ - 20x₂³x₃² - 20x₂²x₃³ - 10x₂x₃⁴ - 2x₃⁵"
      ]
     },
     "execution_count": 5,
     "metadata": {},
     "output_type": "execute_result"
    }
   ],
   "source": [
    "polynomial(monomials(x,1))^4*h"
   ]
  },
  {
   "cell_type": "code",
   "execution_count": 6,
   "id": "f71dc6db-1311-42f0-8f58-73cad7152354",
   "metadata": {},
   "outputs": [
    {
     "data": {
      "text/plain": [
       "Run (generic function with 1 method)"
      ]
     },
     "execution_count": 6,
     "metadata": {},
     "output_type": "execute_result"
    }
   ],
   "source": [
    "function Run(poly,arrayOfPolynomials)\n",
    "    var = variables([arrayOfPolynomials...,poly])\n",
    "    for i in 1:5\n",
    "        e=polynomial(monomials(x,1))^i*h\n",
    "        Sol = getSolution(e,arrayOfPolynomials,var)\n",
    "        if Sol != false\n",
    "            return Sol\n",
    "        end\n",
    "    end    \n",
    "    return false\n",
    "end"
   ]
  },
  {
   "cell_type": "code",
   "execution_count": 7,
   "id": "19f45db5-d38d-4f42-b9b8-200c38e1587c",
   "metadata": {},
   "outputs": [
    {
     "data": {
      "text/plain": [
       "4-element Vector{Any}:\n",
       " 0.0\n",
       " x₁ + 2.0x₂\n",
       " x₁ + 2.0x₃\n",
       " 1.0"
      ]
     },
     "execution_count": 7,
     "metadata": {},
     "output_type": "execute_result"
    }
   ],
   "source": [
    "Run(h,F)"
   ]
  },
  {
   "cell_type": "code",
   "execution_count": 8,
   "id": "161b6df8-45f8-44be-b3ef-f9c829c2871c",
   "metadata": {},
   "outputs": [
    {
     "data": {
      "text/plain": [
       "4-element Vector{Polynomial{true, Int64}}:\n",
       " 1\n",
       " x₁ - x₂\n",
       " x₁ - x₃\n",
       " x₁² - 4x₂x₃"
      ]
     },
     "execution_count": 8,
     "metadata": {},
     "output_type": "execute_result"
    }
   ],
   "source": [
    "F"
   ]
  },
  {
   "cell_type": "code",
   "execution_count": null,
   "id": "8eb5f6ca-3eac-4c8e-88df-6a2938ad5192",
   "metadata": {},
   "outputs": [],
   "source": []
  }
 ],
 "metadata": {
  "kernelspec": {
   "display_name": "Julia 1.7.2",
   "language": "julia",
   "name": "julia-1.7"
  },
  "language_info": {
   "file_extension": ".jl",
   "mimetype": "application/julia",
   "name": "julia",
   "version": "1.7.2"
  }
 },
 "nbformat": 4,
 "nbformat_minor": 5
}
