{
 "cells": [
  {
   "cell_type": "code",
   "execution_count": 1,
   "id": "7fe37907-f238-47ea-bf3c-9b28dc77ce15",
   "metadata": {},
   "outputs": [],
   "source": [
    "using DynamicPolynomials,LinearAlgebra\n",
    "\n",
    "using JuMP\n",
    "using NLopt\n",
    "import HiGHS"
   ]
  },
  {
   "cell_type": "code",
   "execution_count": 2,
   "id": "5306fbb3-2d9e-44f3-abbb-26438af518b6",
   "metadata": {},
   "outputs": [
    {
     "data": {
      "text/plain": [
       "4-element Vector{Int64}:\n",
       "  1\n",
       " -1\n",
       "  1\n",
       "  1"
      ]
     },
     "execution_count": 2,
     "metadata": {},
     "output_type": "execute_result"
    }
   ],
   "source": [
    "c = [1,-1,-1]\n",
    "A=[3//2 0;0 1;0 -1]\n",
    "H=[1 0;-1 0;0 1;0 -1]\n",
    "d=[1,-1,1,1]"
   ]
  },
  {
   "cell_type": "code",
   "execution_count": 3,
   "id": "3594d12d-c176-47e7-bb0c-be0c049c35a8",
   "metadata": {},
   "outputs": [
    {
     "data": {
      "text/plain": [
       "Signom (generic function with 1 method)"
      ]
     },
     "execution_count": 3,
     "metadata": {},
     "output_type": "execute_result"
    }
   ],
   "source": [
    "function Signom(A,c)\n",
    "    return f(x)=transpose(c)*[ℯ^(transpose(u)*x) for u in eachrow(A)]\n",
    "end"
   ]
  },
  {
   "cell_type": "code",
   "execution_count": 6,
   "id": "d8931f65-aee2-4eb8-89d4-00187372c8d0",
   "metadata": {},
   "outputs": [
    {
     "data": {
      "text/plain": [
       "3-element Vector{Any}:\n",
       " Any[1.5, [1.0, -1.0]]\n",
       " Any[-1.0, [1.0, -1.0]]\n",
       " Any[-1.0, [1.0, 1.0]]"
      ]
     },
     "execution_count": 6,
     "metadata": {},
     "output_type": "execute_result"
    }
   ],
   "source": [
    "function findMinOnSet(A,H,d)\n",
    "    min=[]\n",
    "    for j in 1:size(A,1)\n",
    "        n= size(A,2)\n",
    "        LP = Model(HiGHS.Optimizer)\n",
    "        set_optimizer_attribute(LP, \"log_to_console\", \"false\")\n",
    "        @variable(LP,x[1:n])\n",
    "        @objective(LP,Min,(A*x)[j])\n",
    "        @constraint(LP,H*x.<=d)\n",
    "        JuMP.optimize!(LP)\n",
    "        Solution = JuMP.value.(x)\n",
    "        push!(min,[(A*Solution)[j],Solution]) ##Warning !! Only Suport e^ has to be calculated\n",
    "    end\n",
    "    return min\n",
    "end\n",
    "findMinOnSet(A,H,d)"
   ]
  },
  {
   "cell_type": "code",
   "execution_count": 5,
   "id": "28090b63-4ca5-49b5-bacf-19a404f1b645",
   "metadata": {},
   "outputs": [
    {
     "data": {
      "text/plain": [
       "3-element Vector{Any}:\n",
       " Any[1.5, [1.0, -1.0]]\n",
       " Any[1.0, [1.0, 1.0]]\n",
       " Any[1.0, [1.0, -1.0]]"
      ]
     },
     "execution_count": 5,
     "metadata": {},
     "output_type": "execute_result"
    }
   ],
   "source": [
    "function findMaxOnSet(A,H,d)\n",
    "    max=[]\n",
    "    for j in 1:size(A,1)\n",
    "        n= size(A,2)\n",
    "        LP = Model(HiGHS.Optimizer)\n",
    "        set_optimizer_attribute(LP, \"log_to_console\", \"false\")\n",
    "        @variable(LP,x[1:n])\n",
    "        @objective(LP,Max,(A*x)[j])\n",
    "        @constraint(LP,H*x.<=d)\n",
    "        JuMP.optimize!(LP)\n",
    "        Solution = JuMP.value.(x)\n",
    "        push!(max,[(A*Solution)[j],Solution]) ##Warning !! Only Suport e^ has to be calculated\n",
    "    end\n",
    "    return max\n",
    "end\n",
    "findMaxOnSet(A,H,d)"
   ]
  },
  {
   "cell_type": "code",
   "execution_count": null,
   "id": "7ce18888-faf1-414e-8ce9-0ab6cdfbfd31",
   "metadata": {},
   "outputs": [],
   "source": []
  }
 ],
 "metadata": {
  "kernelspec": {
   "display_name": "Julia 1.7.2",
   "language": "julia",
   "name": "julia-1.7"
  },
  "language_info": {
   "file_extension": ".jl",
   "mimetype": "application/julia",
   "name": "julia",
   "version": "1.7.2"
  }
 },
 "nbformat": 4,
 "nbformat_minor": 5
}
