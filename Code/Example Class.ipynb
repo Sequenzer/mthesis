{
 "cells": [
  {
   "cell_type": "code",
   "execution_count": 1,
   "id": "7ffc86c6-9a6d-4846-8cae-289b89755098",
   "metadata": {},
   "outputs": [
    {
     "data": {
      "text/plain": [
       "4-element Vector{Any}:\n",
       " [0.0, 0.0, 0.0, 0.0, 0.0, 0.0]\n",
       " [1.0, 2.0, 0.0]\n",
       " [1.0, 0.0, 2.0]\n",
       " [1.0]"
      ]
     },
     "execution_count": 1,
     "metadata": {},
     "output_type": "execute_result"
    }
   ],
   "source": [
    "using DynamicPolynomials,LinearAlgebra\n",
    "using NBInclude\n",
    "\n",
    "\n",
    "using JuMP\n",
    "using MadNLP\n",
    "import HiGHS\n",
    "\n",
    "\n",
    "@nbinclude(\"Wang to Dickinson.ipynb\")\n",
    "@nbinclude(\"Methods.ipynb\")\n",
    "# @nbinclude(\"MinMaxonSet.ipynb\")"
   ]
  },
  {
   "cell_type": "code",
   "execution_count": 2,
   "id": "dc656d3e-8e2d-46dd-8f79-8409c9a74f06",
   "metadata": {},
   "outputs": [
    {
     "data": {
      "text/plain": [
       "3"
      ]
     },
     "execution_count": 2,
     "metadata": {},
     "output_type": "execute_result"
    }
   ],
   "source": [
    "c₁ = [5/8ℯ,-5/4,5ℯ/8,5/8ℯ,-5/4,5ℯ/8]\n",
    "A₁=[5/2;3/2;1/2;-5/2;-3/2;-1/2]\n",
    "H=[1;-1]\n",
    "d=[10;10]\n",
    "size(A,1)"
   ]
  },
  {
   "cell_type": "code",
   "execution_count": 3,
   "id": "ed2c9d05-c58e-4864-9169-82058e5717aa",
   "metadata": {},
   "outputs": [
    {
     "data": {
      "text/plain": [
       "Signom (generic function with 1 method)"
      ]
     },
     "execution_count": 3,
     "metadata": {},
     "output_type": "execute_result"
    }
   ],
   "source": [
    "function Signom(A,c)\n",
    "    return f(x)=transpose(c)*[ℯ^(transpose(u)*x) for u in eachrow(A)]\n",
    "end"
   ]
  },
  {
   "cell_type": "code",
   "execution_count": 4,
   "id": "e9a669d7-c7b1-493f-86c6-68fbbc5a456e",
   "metadata": {},
   "outputs": [
    {
     "data": {
      "text/plain": [
       "(::var\"#f#11\"{Vector{Float64}, Vector{Float64}}) (generic function with 1 method)"
      ]
     },
     "execution_count": 4,
     "metadata": {},
     "output_type": "execute_result"
    }
   ],
   "source": [
    "f₁=Signom(A₁,c₁)"
   ]
  },
  {
   "cell_type": "code",
   "execution_count": 5,
   "id": "898bf763-d79a-4770-81da-78b78b322388",
   "metadata": {},
   "outputs": [
    {
     "data": {
      "text/plain": [
       "1.3577015870381093"
      ]
     },
     "execution_count": 5,
     "metadata": {},
     "output_type": "execute_result"
    }
   ],
   "source": [
    "min= f₁([0])"
   ]
  },
  {
   "cell_type": "code",
   "execution_count": 6,
   "id": "24165c77-79e3-4b6b-b4a6-09d206afbe1a",
   "metadata": {},
   "outputs": [
    {
     "data": {
      "text/plain": [
       "3×2 Matrix{Rational{Int64}}:\n",
       " 3//2   0//1\n",
       " 0//1   1//1\n",
       " 0//1  -1//1"
      ]
     },
     "execution_count": 6,
     "metadata": {},
     "output_type": "execute_result"
    }
   ],
   "source": [
    "# c = [5/8ℯ,-5/4,5ℯ/8,5/8ℯ,-5/4,5ℯ/8,-min]\n",
    "# A=[5/2;3/2;1/2;-5/2;-3/2;-1/2;0]\n",
    "# H=[1,-1]\n",
    "# d=[2,2]\n",
    "c = [1,-1,-1]\n",
    "A=[3//2 0;0 1;0 -1]\n",
    "H=[1 0;-1 0;0 1;0 -1]\n",
    "d=[1,-1,1,1]\n",
    "A"
   ]
  },
  {
   "cell_type": "code",
   "execution_count": 7,
   "id": "3821efec-d25b-4da3-8f00-b5b6a46b6b12",
   "metadata": {},
   "outputs": [
    {
     "data": {
      "text/plain": [
       "4-element Vector{PolyVar{true}}:\n",
       " x₁\n",
       " x₂\n",
       " x₃\n",
       " x₄"
      ]
     },
     "execution_count": 7,
     "metadata": {},
     "output_type": "execute_result"
    }
   ],
   "source": [
    "poly,arrayOfPolynomials = getallConstraints(A,H,c,d)\n",
    "var = variables([arrayOfPolynomials...,poly])"
   ]
  },
  {
   "cell_type": "code",
   "execution_count": 8,
   "id": "07d66afa-7df4-4c48-aa2b-b39f37547da3",
   "metadata": {},
   "outputs": [
    {
     "data": {
      "text/plain": [
       "11-element Vector{Any}:\n",
       " -x₁² + 20.085536923187668x₄²\n",
       " 0.049787068367863944x₁² - x₄²\n",
       " -x₂ + 7.38905609893065x₃\n",
       " 7.38905609893065x₂ - x₃\n",
       " x₁ - 4.4816890703380645x₄\n",
       " x₂ - 0.36787944117144233x₄\n",
       " x₃ - 0.36787944117144233x₄\n",
       " -x₁ + 4.4816890703380645x₄\n",
       " -x₂ + 2.718281828459045x₄\n",
       " -x₃ + 2.718281828459045x₄\n",
       " x₄"
      ]
     },
     "execution_count": 8,
     "metadata": {},
     "output_type": "execute_result"
    }
   ],
   "source": [
    "arrayOfPolynomials"
   ]
  },
  {
   "cell_type": "code",
   "execution_count": 9,
   "id": "0f1f551a-77c5-4f54-a8cc-f0d58a50f6db",
   "metadata": {},
   "outputs": [
    {
     "data": {
      "text/latex": [
       "$$ x_{1}^{2} - x_{2}^{2} - 2x_{2}x_{3} - x_{3}^{2} $$"
      ],
      "text/plain": [
       "x₁² - x₂² - 2x₂x₃ - x₃²"
      ]
     },
     "execution_count": 9,
     "metadata": {},
     "output_type": "execute_result"
    }
   ],
   "source": [
    "e=(polynomial(monomials(var,1))-var[4])^1*poly"
   ]
  },
  {
   "cell_type": "code",
   "execution_count": 10,
   "id": "207a2f01-a9c5-40a1-92ee-9aae197cbeeb",
   "metadata": {},
   "outputs": [
    {
     "data": {
      "text/latex": [
       "$$ x_{1}^{2} - x_{2}^{2} - x_{3}^{2} - 2 $$"
      ],
      "text/plain": [
       "x₁² - x₂² - x₃² - 2"
      ]
     },
     "execution_count": 10,
     "metadata": {},
     "output_type": "execute_result"
    }
   ],
   "source": [
    "e=var[1]^2 -var[2]^2-var[3]^2-2"
   ]
  },
  {
   "cell_type": "code",
   "execution_count": 11,
   "id": "76bbff83-4956-41c6-ab6a-05b69e1806d9",
   "metadata": {},
   "outputs": [
    {
     "data": {
      "text/latex": [
       "$$ \\begin{aligned}\n",
       "\\text{feasibility}\\\\\n",
       "\\text{Subject to} \\quad & -u_{1} + 0.049787068367863944 u_{2} + u_{11} - u_{23} = 1.0\\\\\n",
       " & -u_{3} + 7.38905609893065 u_{7} + u_{12} + u_{15} - u_{24} - u_{27} = 0.0\\\\\n",
       " & 7.38905609893065 u_{3} - u_{7} + u_{13} + u_{19} - u_{25} - u_{31} = 0.0\\\\\n",
       " & -4.4816890703380645 u_{11} + u_{14} - 0.36787944117144233 u_{15} - 0.36787944117144233 u_{19} + 4.4816890703380645 u_{23} - u_{26} + 2.718281828459045 u_{27} + 2.718281828459045 u_{31} + u_{35} = 0.0\\\\\n",
       " & -u_{4} + 7.38905609893065 u_{8} + u_{16} - u_{28} = -1.0\\\\\n",
       " & 7.38905609893065 u_{4} - u_{5} - u_{8} + 7.38905609893065 u_{9} + u_{17} + u_{20} - u_{29} - u_{32} = 0.0\\\\\n",
       " & -u_{6} + 7.38905609893065 u_{10} - 4.4816890703380645 u_{12} - 0.36787944117144233 u_{16} + u_{18} - 0.36787944117144233 u_{20} + 4.4816890703380645 u_{24} + 2.718281828459045 u_{28} - u_{30} + 2.718281828459045 u_{32} + u_{36} = 0.0\\\\\n",
       " & 7.38905609893065 u_{5} - u_{9} + u_{21} - u_{33} = -1.0\\\\\n",
       " & 7.38905609893065 u_{6} - u_{10} - 4.4816890703380645 u_{13} - 0.36787944117144233 u_{17} - 0.36787944117144233 u_{21} + u_{22} + 4.4816890703380645 u_{25} + 2.718281828459045 u_{29} + 2.718281828459045 u_{33} - u_{34} + u_{37} = 0.0\\\\\n",
       " & 20.085536923187668 u_{1} - u_{2} - 4.4816890703380645 u_{14} - 0.36787944117144233 u_{18} - 0.36787944117144233 u_{22} + 4.4816890703380645 u_{26} + 2.718281828459045 u_{30} + 2.718281828459045 u_{34} + u_{38} = 0.0\\\\\n",
       " & u_{1} \\geq 0.0\\\\\n",
       " & u_{2} \\geq 0.0\\\\\n",
       " & u_{3} \\geq 0.0\\\\\n",
       " & u_{4} \\geq 0.0\\\\\n",
       " & u_{5} \\geq 0.0\\\\\n",
       " & u_{6} \\geq 0.0\\\\\n",
       " & u_{7} \\geq 0.0\\\\\n",
       " & u_{8} \\geq 0.0\\\\\n",
       " & u_{9} \\geq 0.0\\\\\n",
       " & u_{10} \\geq 0.0\\\\\n",
       " & u_{11} \\geq 0.0\\\\\n",
       " & u_{12} \\geq 0.0\\\\\n",
       " & u_{13} \\geq 0.0\\\\\n",
       " & u_{14} \\geq 0.0\\\\\n",
       " & u_{15} \\geq 0.0\\\\\n",
       " & u_{16} \\geq 0.0\\\\\n",
       " & u_{17} \\geq 0.0\\\\\n",
       " & u_{18} \\geq 0.0\\\\\n",
       " & u_{19} \\geq 0.0\\\\\n",
       " & u_{20} \\geq 0.0\\\\\n",
       " & u_{21} \\geq 0.0\\\\\n",
       " & u_{22} \\geq 0.0\\\\\n",
       " & u_{23} \\geq 0.0\\\\\n",
       " & u_{24} \\geq 0.0\\\\\n",
       " & u_{25} \\geq 0.0\\\\\n",
       " & u_{26} \\geq 0.0\\\\\n",
       " & u_{27} \\geq 0.0\\\\\n",
       " & u_{28} \\geq 0.0\\\\\n",
       " & u_{29} \\geq 0.0\\\\\n",
       " & u_{30} \\geq 0.0\\\\\n",
       " & u_{31} \\geq 0.0\\\\\n",
       " & u_{32} \\geq 0.0\\\\\n",
       " & u_{33} \\geq 0.0\\\\\n",
       " & u_{34} \\geq 0.0\\\\\n",
       " & u_{35} \\geq 0.0\\\\\n",
       " & u_{36} \\geq 0.0\\\\\n",
       " & u_{37} \\geq 0.0\\\\\n",
       " & u_{38} \\geq 0.0\\\\\n",
       "\\end{aligned} $$"
      ]
     },
     "metadata": {},
     "output_type": "display_data"
    },
    {
     "data": {
      "text/plain": [
       "11-element Vector{Any}:\n",
       " 0.0\n",
       " 20.085536923187668\n",
       " 0.0\n",
       " 0.06818846861397553x₁\n",
       " 0.6065306597126334x₂ + 0.6065306597126334x₃\n",
       " 0.0\n",
       " 0.0\n",
       " 4.481689070338065x₄\n",
       " 1.1103790796014705x₁ + x₂\n",
       " 0.5383421910986579x₁ + x₃\n",
       " 0.0"
      ]
     },
     "execution_count": 11,
     "metadata": {},
     "output_type": "execute_result"
    }
   ],
   "source": [
    "LP,u,b,c,n = getLP(e,arrayOfPolynomials,var)\n",
    "    # print(LP)\n",
    "    JuMP.optimize!(LP)\n",
    "    if JuMP.has_values(LP)\n",
    "        sol=JuMP.value.(u)\n",
    "        walk=1\n",
    "        c=[]\n",
    "        solPoly=[]\n",
    "        for (j,i) in enumerate(n)\n",
    "            coeff = view(sol,walk:walk+i-1)\n",
    "            base = monomials(var,maxdegree(e)-maxdegree(arrayOfPolynomials[j]))\n",
    "            push!(solPoly,polynomial(coeff,base))\n",
    "            push!(c,coeff)\n",
    "            walk+=i\n",
    "        end\n",
    "        # return (solPoly,c)\n",
    "    # else\n",
    "    #     return false\n",
    "    end\n",
    "solPoly"
   ]
  },
  {
   "cell_type": "code",
   "execution_count": null,
   "id": "16c33199-7517-4e19-9352-b56728ecb09d",
   "metadata": {},
   "outputs": [],
   "source": [
    "nvars"
   ]
  }
 ],
 "metadata": {
  "kernelspec": {
   "display_name": "Julia 1.7.2",
   "language": "julia",
   "name": "julia-1.7"
  },
  "language_info": {
   "file_extension": ".jl",
   "mimetype": "application/julia",
   "name": "julia",
   "version": "1.7.2"
  }
 },
 "nbformat": 4,
 "nbformat_minor": 5
}
