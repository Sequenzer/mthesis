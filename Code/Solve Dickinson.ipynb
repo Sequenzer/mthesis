{
 "cells": [
  {
   "cell_type": "markdown",
   "id": "dc860251-9ae7-45ac-b869-2e4afc8393f3",
   "metadata": {},
   "source": [
    "# Construction of a Linear program for a given degree\n",
    "Equation to Solve\n",
    "$$\\ \\vert x \\vert_1^r \\cdot f_0(x) = \\sum_i^n f_i(x)g_i(x)$$\n",
    "we use the following packages\n",
    "- Dynamic Polynomails: for multivariate Polynomials\n",
    "- LinearAlgebra: for Linear Algebra\n",
    "- JuMP: Linear Programming\n",
    "- HiGHS: a solver for linear programming"
   ]
  },
  {
   "cell_type": "code",
   "execution_count": 1,
   "id": "fff83166-63b1-4a44-bac1-a94e0348700e",
   "metadata": {},
   "outputs": [],
   "source": [
    "using DynamicPolynomials,LinearAlgebra\n",
    "using JuMP\n",
    "import HiGHS"
   ]
  },
  {
   "cell_type": "markdown",
   "id": "ccf1fa3a-c304-4a43-a25d-0dcecdf41b0a",
   "metadata": {},
   "source": [
    "## Step by Step Instruction\n",
    "As Input we need the following:\n",
    "- $r\\in \\mathbb{N}$\n",
    "- An array of homogenous polynomials $F$ \n",
    "\n",
    "At first we create a Example to explain its steps via this example"
   ]
  },
  {
   "cell_type": "code",
   "execution_count": 2,
   "id": "811996c9-ad2c-4e9f-a18f-f9239ebd1350",
   "metadata": {},
   "outputs": [
    {
     "data": {
      "text/plain": [
       "(PolyVar{true}[x₁, x₂, x₃],)"
      ]
     },
     "execution_count": 2,
     "metadata": {},
     "output_type": "execute_result"
    }
   ],
   "source": [
    "@polyvar x[1:3] ## gives us 3 Variables for polynomial construction"
   ]
  },
  {
   "cell_type": "markdown",
   "id": "5d3c9ab6-5b78-423e-b9fd-7beadd6db0e5",
   "metadata": {},
   "source": [
    "Now we can create a bunch of polynomials in $\\mathbb R[x_1,x_2,x_3]$"
   ]
  },
  {
   "cell_type": "code",
   "execution_count": 3,
   "id": "dc656fbd-7fd6-407c-9a9b-4e2e23998242",
   "metadata": {},
   "outputs": [
    {
     "data": {
      "text/latex": [
       "$$ x_{1}^{2} - 4x_{2}x_{3} $$"
      ],
      "text/plain": [
       "x₁² - 4x₂x₃"
      ]
     },
     "execution_count": 3,
     "metadata": {},
     "output_type": "execute_result"
    }
   ],
   "source": [
    "f₀ = 3x[1] - 2x[2] - 2x[3]\n",
    "f₁ = 1 + 0*x[1]\n",
    "f₂ = x[1]-x[2]\n",
    "f₃ = x[1]-x[3]\n",
    "f₄ = x[1]^2 - 4x[2]x[3]"
   ]
  },
  {
   "cell_type": "markdown",
   "id": "8874c1e6-e32d-44c2-9457-0f9e610b77f7",
   "metadata": {},
   "source": [
    "Which means we can create our Inputs "
   ]
  },
  {
   "cell_type": "code",
   "execution_count": 4,
   "id": "3ae0aad7-d480-4e16-b2b6-4ff1f53c880f",
   "metadata": {},
   "outputs": [
    {
     "data": {
      "text/plain": [
       "5-element Vector{Polynomial{true, Int64}}:\n",
       " 3x₁ - 2x₂ - 2x₃\n",
       " 1\n",
       " x₁ - x₂\n",
       " x₁ - x₃\n",
       " x₁² - 4x₂x₃"
      ]
     },
     "execution_count": 4,
     "metadata": {},
     "output_type": "execute_result"
    }
   ],
   "source": [
    "r=1\n",
    "F=[f₀,f₁,f₂,f₃,f₄]"
   ]
  },
  {
   "cell_type": "markdown",
   "id": "54076fd0-1e0e-4dbb-bf3b-192e126364e3",
   "metadata": {},
   "source": [
    "We first calcualte the coefficients $l_\\alpha$ on the Left site of the equation "
   ]
  },
  {
   "cell_type": "code",
   "execution_count": 5,
   "id": "7712412e-14cc-4655-b7b4-c8d9160ea3dc",
   "metadata": {},
   "outputs": [
    {
     "data": {
      "text/plain": [
       "3-element MonomialVector{true}:\n",
       " x₁\n",
       " x₂\n",
       " x₃"
      ]
     },
     "execution_count": 5,
     "metadata": {},
     "output_type": "execute_result"
    }
   ],
   "source": [
    "base = monomials(x,1) ## Every possible monomial of degree 1"
   ]
  },
  {
   "cell_type": "code",
   "execution_count": 6,
   "id": "b0374241-d91a-4565-b47e-62d709450751",
   "metadata": {},
   "outputs": [
    {
     "data": {
      "text/latex": [
       "$$ x_{1} + x_{2} + x_{3} $$"
      ],
      "text/plain": [
       "x₁ + x₂ + x₃"
      ]
     },
     "execution_count": 6,
     "metadata": {},
     "output_type": "execute_result"
    }
   ],
   "source": [
    "polynomial(base) ## This gives us a easy way to calculate the left site"
   ]
  },
  {
   "cell_type": "code",
   "execution_count": 7,
   "id": "0ce36a7f-a26f-4b82-ac13-e53c9ebca2f9",
   "metadata": {},
   "outputs": [
    {
     "data": {
      "text/latex": [
       "$$ 3x_{1}^{2} + x_{1}x_{2} + x_{1}x_{3} - 2x_{2}^{2} - 4x_{2}x_{3} - 2x_{3}^{2} $$"
      ],
      "text/plain": [
       "3x₁² + x₁x₂ + x₁x₃ - 2x₂² - 4x₂x₃ - 2x₃²"
      ]
     },
     "execution_count": 7,
     "metadata": {},
     "output_type": "execute_result"
    }
   ],
   "source": [
    "left = polynomial(base)^r*f₀ ##The left site of the Equation"
   ]
  },
  {
   "cell_type": "markdown",
   "id": "bcace97c-2b53-4042-922d-758d71f26226",
   "metadata": {},
   "source": [
    "Now we need to only extract the coefficients"
   ]
  },
  {
   "cell_type": "code",
   "execution_count": 8,
   "id": "95ac5224-dd4a-4a00-b9f4-f109111cbfa5",
   "metadata": {},
   "outputs": [
    {
     "data": {
      "text/plain": [
       "6-element Vector{Int64}:\n",
       "  3\n",
       "  1\n",
       "  1\n",
       " -2\n",
       " -4\n",
       " -2"
      ]
     },
     "execution_count": 8,
     "metadata": {},
     "output_type": "execute_result"
    }
   ],
   "source": [
    "l = coefficients(left,monomials(x,2)) ##monomials(x,2) calculates the monomials base for  "
   ]
  },
  {
   "cell_type": "markdown",
   "id": "cc3b53b8-c229-4e80-897d-e80832f967c6",
   "metadata": {},
   "source": [
    "## Right Side\n",
    "Now we know that $f_i\\cdot g_i=\\sum_j m_j \\cdot f_i$. Where $m_j$ are monomials conained in $g_i$"
   ]
  },
  {
   "cell_type": "code",
   "execution_count": 9,
   "id": "733cb0e2-a916-4bfe-aab2-77efc1ae8e33",
   "metadata": {},
   "outputs": [
    {
     "data": {
      "text/plain": [
       "6-element MonomialVector{true}:\n",
       " x₁²\n",
       " x₁x₂\n",
       " x₁x₃\n",
       " x₂²\n",
       " x₂x₃\n",
       " x₃²"
      ]
     },
     "execution_count": 9,
     "metadata": {},
     "output_type": "execute_result"
    }
   ],
   "source": [
    "d₀ = maxdegree(f₀)\n",
    "d₁ = maxdegree(f₁)\n",
    "m = monomials(x,d₀+r-d₁) "
   ]
  },
  {
   "cell_type": "markdown",
   "id": "43d9f010-2718-49ae-b2dd-1291192cfc66",
   "metadata": {},
   "source": [
    "So now we want to calculate the coefficients from $m_j \\cdot g_i$."
   ]
  },
  {
   "cell_type": "code",
   "execution_count": 10,
   "id": "636c0d2e-cae5-44db-a13c-804711b7f15b",
   "metadata": {},
   "outputs": [
    {
     "data": {
      "text/plain": [
       "6-element Vector{Polynomial{true, Int64}}:\n",
       " x₁²\n",
       " x₁x₂\n",
       " x₁x₃\n",
       " x₂²\n",
       " x₂x₃\n",
       " x₃²"
      ]
     },
     "execution_count": 10,
     "metadata": {},
     "output_type": "execute_result"
    }
   ],
   "source": [
    "m*f₁"
   ]
  },
  {
   "cell_type": "markdown",
   "id": "0dc31aeb-f908-4c68-a222-2b1a2b3c2e93",
   "metadata": {},
   "source": [
    "The monomomial base of this have degree $d_0+r$. Which means we can calculate ist coefficients."
   ]
  },
  {
   "cell_type": "code",
   "execution_count": 11,
   "id": "38cea658-168e-433d-82dd-2099ee57dbf9",
   "metadata": {},
   "outputs": [
    {
     "data": {
      "text/plain": [
       "6-element Vector{Any}:\n",
       " [1, 0, 0, 0, 0, 0]\n",
       " [0, 1, 0, 0, 0, 0]\n",
       " [0, 0, 1, 0, 0, 0]\n",
       " [0, 0, 0, 1, 0, 0]\n",
       " [0, 0, 0, 0, 1, 0]\n",
       " [0, 0, 0, 0, 0, 1]"
      ]
     },
     "execution_count": 11,
     "metadata": {},
     "output_type": "execute_result"
    }
   ],
   "source": [
    "C₁=[]\n",
    "for mᵢ in m*f₁\n",
    "    push!(C₁,coefficients(mᵢ,monomials(x,d₀+r)))\n",
    "end\n",
    "C₁"
   ]
  },
  {
   "cell_type": "markdown",
   "id": "1da8708d-e219-4791-8330-20ff6fc7add7",
   "metadata": {},
   "source": [
    "This now has to be convertert into a Matrix, as opposed to a vector of vectors."
   ]
  },
  {
   "cell_type": "code",
   "execution_count": 12,
   "id": "5c6c5bd8-1560-4e94-becc-12f150055f31",
   "metadata": {},
   "outputs": [
    {
     "data": {
      "text/plain": [
       "6×6 transpose(::Matrix{Int64}) with eltype Int64:\n",
       " 1  0  0  0  0  0\n",
       " 0  1  0  0  0  0\n",
       " 0  0  1  0  0  0\n",
       " 0  0  0  1  0  0\n",
       " 0  0  0  0  1  0\n",
       " 0  0  0  0  0  1"
      ]
     },
     "execution_count": 12,
     "metadata": {},
     "output_type": "execute_result"
    }
   ],
   "source": [
    "C₁=transpose(reduce(vcat,transpose.(C₁))) ## This Transposed every Vector and then adds then together. Before Transposing evrything again"
   ]
  },
  {
   "cell_type": "markdown",
   "id": "2a948eae-525b-4c4c-bb3f-7a15b2684050",
   "metadata": {},
   "source": [
    "Now to find coefficients for $$\\vert x \\vert_1^r \\cdot f_0(x) = g_1 \\cdot f_1$$ \n",
    "we only have to find x so that $$ C_1 x = l$$ which would be our coefficients of $g_1$."
   ]
  },
  {
   "cell_type": "markdown",
   "id": "c1da9096-2893-4aac-9d79-e6bbb1d1c5b6",
   "metadata": {},
   "source": [
    "## Multiple Polynomials\n",
    "\n",
    "To generalise this to multiple Polynomials we only have to interate over them."
   ]
  },
  {
   "cell_type": "code",
   "execution_count": 13,
   "id": "6262021c-1ecd-41b0-81ac-5d3a1ddf0165",
   "metadata": {},
   "outputs": [
    {
     "data": {
      "text/plain": [
       "6×13 transpose(::Matrix{Int64}) with eltype Int64:\n",
       " 1  0  0  0  0  0   1   0   0   1   0   0   1\n",
       " 0  1  0  0  0  0  -1   1   0   0   1   0   0\n",
       " 0  0  1  0  0  0   0   0   1  -1   0   1   0\n",
       " 0  0  0  1  0  0   0  -1   0   0   0   0   0\n",
       " 0  0  0  0  1  0   0   0  -1   0  -1   0  -4\n",
       " 0  0  0  0  0  1   0   0   0   0   0  -1   0"
      ]
     },
     "execution_count": 13,
     "metadata": {},
     "output_type": "execute_result"
    }
   ],
   "source": [
    "M=[]\n",
    "for fᵢ in F[2:5]\n",
    "    dᵢ = maxdegree(fᵢ)\n",
    "    m = monomials(x,d₀+r-dᵢ) \n",
    "    Cᵢ=[]\n",
    "    for mᵢ in m*fᵢ\n",
    "        push!(Cᵢ,coefficients(mᵢ,monomials(x,d₀+r)))\n",
    "    end\n",
    "    Cᵢ=transpose(reduce(vcat,transpose.(Cᵢ)))\n",
    "    push!(M,Cᵢ)\n",
    "end\n",
    "M=transpose(reduce(vcat,transpose.(M)))"
   ]
  },
  {
   "cell_type": "markdown",
   "id": "ef0ceed4-437b-4257-8c14-2285b9f5f6a3",
   "metadata": {},
   "source": [
    "Solving $$ Mx=l$$ gives us coefficients of $g$"
   ]
  },
  {
   "cell_type": "markdown",
   "id": "c92dd73e-e9d9-4995-a3b3-35e9a7f45290",
   "metadata": {},
   "source": [
    "# Solving a Linear Programm\n",
    "At first we have to define the LP to solve.\n",
    "## Creating the LP\n",
    "We first need to calculate the Size of the Matrix"
   ]
  },
  {
   "cell_type": "code",
   "execution_count": 14,
   "id": "448ae90a-5133-469d-ad4b-755dfa1bb7fe",
   "metadata": {},
   "outputs": [
    {
     "data": {
      "text/plain": [
       "6"
      ]
     },
     "execution_count": 14,
     "metadata": {},
     "output_type": "execute_result"
    }
   ],
   "source": [
    "n=size(M,2) ## M is a 6 x 13 Matrix\n",
    "m=size(M,1)"
   ]
  },
  {
   "cell_type": "code",
   "execution_count": 27,
   "id": "97245330-fd96-4141-a422-7e3d23eb3a00",
   "metadata": {},
   "outputs": [
    {
     "data": {
      "text/latex": [
       "$$ \\begin{aligned}\n",
       "\\text{feasibility}\\\\\n",
       "\\text{Subject to} \\quad & u_{1} \\geq 0.0\\\\\n",
       " & u_{2} \\geq 0.0\\\\\n",
       " & u_{3} \\geq 0.0\\\\\n",
       " & u_{4} \\geq 0.0\\\\\n",
       " & u_{5} \\geq 0.0\\\\\n",
       " & u_{6} \\geq 0.0\\\\\n",
       " & u_{7} \\geq 0.0\\\\\n",
       " & u_{8} \\geq 0.0\\\\\n",
       " & u_{9} \\geq 0.0\\\\\n",
       " & u_{10} \\geq 0.0\\\\\n",
       " & u_{11} \\geq 0.0\\\\\n",
       " & u_{12} \\geq 0.0\\\\\n",
       " & u_{13} \\geq 0.0\\\\\n",
       "\\end{aligned} $$"
      ]
     },
     "metadata": {},
     "output_type": "display_data"
    }
   ],
   "source": [
    "LP=Model(HiGHS.Optimizer) ## initializing the Linear Programm\n",
    "@variable(LP, u[1:n]>=0) ## Defining a n-dimensional Variable an automaticly constraint it to be nonnegative\n",
    "print(LP)"
   ]
  },
  {
   "cell_type": "code",
   "execution_count": 28,
   "id": "4e3f38fc-ffd7-4ca3-9437-ff9c049b5594",
   "metadata": {},
   "outputs": [
    {
     "data": {
      "text/latex": [
       "$$ \\begin{aligned}\n",
       "\\text{feasibility}\\\\\n",
       "\\text{Subject to} \\quad & u_{1} + u_{7} + u_{10} + u_{13} = 3.0\\\\\n",
       " & u_{2} - u_{7} + u_{8} + u_{11} = 1.0\\\\\n",
       " & u_{3} + u_{9} - u_{10} + u_{12} = 1.0\\\\\n",
       " & u_{4} - u_{8} = -2.0\\\\\n",
       " & u_{5} - u_{9} - u_{11} - 4 u_{13} = -4.0\\\\\n",
       " & u_{6} - u_{12} = -2.0\\\\\n",
       " & u_{1} \\geq 0.0\\\\\n",
       " & u_{2} \\geq 0.0\\\\\n",
       " & u_{3} \\geq 0.0\\\\\n",
       " & u_{4} \\geq 0.0\\\\\n",
       " & u_{5} \\geq 0.0\\\\\n",
       " & u_{6} \\geq 0.0\\\\\n",
       " & u_{7} \\geq 0.0\\\\\n",
       " & u_{8} \\geq 0.0\\\\\n",
       " & u_{9} \\geq 0.0\\\\\n",
       " & u_{10} \\geq 0.0\\\\\n",
       " & u_{11} \\geq 0.0\\\\\n",
       " & u_{12} \\geq 0.0\\\\\n",
       " & u_{13} \\geq 0.0\\\\\n",
       "\\end{aligned} $$"
      ]
     },
     "metadata": {},
     "output_type": "display_data"
    }
   ],
   "source": [
    "@constraint(LP,M*u.==l) ## Define constraint  .== means that it is componentwise equal\n",
    "print(LP)"
   ]
  },
  {
   "cell_type": "markdown",
   "id": "16e235dc-3d01-4af0-b16a-5ecc8e33b19c",
   "metadata": {},
   "source": [
    "Now we only have to find a solution to this LP\n",
    "## Solving a Linear Program\n",
    "this one is easy"
   ]
  },
  {
   "cell_type": "code",
   "execution_count": 29,
   "id": "ac2fb00b-c7f5-410e-ad77-500059703964",
   "metadata": {},
   "outputs": [
    {
     "name": "stdout",
     "output_type": "stream",
     "text": [
      "Presolving model\n",
      "4 rows, 9 cols, 14 nonzeros\n",
      "2 rows, 7 cols, 10 nonzeros\n",
      "2 rows, 4 cols, 6 nonzeros\n",
      "2 rows, 4 cols, 6 nonzeros\n",
      "Presolve : Reductions: rows 2(-4); columns 4(-9); elements 6(-14)\n",
      "Solving the presolved LP\n",
      "Using EKK dual simplex solver - serial\n",
      "  Iteration        Objective     Infeasibilities num(sum)\n",
      "          0     0.0000000000e+00 Pr: 2(5) 0s\n",
      "          1     0.0000000000e+00 Pr: 0(0) 0s\n",
      "Solving the original LP from the solution after postsolve\n",
      "Model   status      : Optimal\n",
      "Simplex   iterations: 1\n",
      "Objective value     :  0.0000000000e+00\n",
      "HiGHS run time      :          0.02\n"
     ]
    }
   ],
   "source": [
    "optimize!(LP)"
   ]
  },
  {
   "cell_type": "markdown",
   "id": "c62d2cc9-b266-4b2f-afbb-d641afd205dc",
   "metadata": {},
   "source": [
    "The Solver tells us it has found a optimal solution which we can now extract"
   ]
  },
  {
   "cell_type": "code",
   "execution_count": 31,
   "id": "24983bbb-0ed9-49c2-83f1-f6835391a176",
   "metadata": {},
   "outputs": [
    {
     "data": {
      "text/plain": [
       "13-element Vector{Float64}:\n",
       " 0.0\n",
       " 0.0\n",
       " 0.0\n",
       " 0.0\n",
       " 0.0\n",
       " 0.0\n",
       " 1.0\n",
       " 2.0\n",
       " 0.0\n",
       " 1.0\n",
       " 0.0\n",
       " 2.0\n",
       " 1.0"
      ]
     },
     "execution_count": 31,
     "metadata": {},
     "output_type": "execute_result"
    }
   ],
   "source": [
    "Solution = JuMP.value.(u)"
   ]
  },
  {
   "cell_type": "markdown",
   "id": "e844e0c9-c21f-44e5-a132-c71b46ff9e99",
   "metadata": {},
   "source": [
    "Now that we got the coefficients vector of our solution we only have to calculate our solution polynomials"
   ]
  },
  {
   "cell_type": "code",
   "execution_count": null,
   "id": "9cddbd99-ee71-430f-827e-dd4aaf752c3b",
   "metadata": {},
   "outputs": [],
   "source": []
  },
  {
   "cell_type": "code",
   "execution_count": null,
   "id": "a9e18368-5917-4441-9fa5-ef6a25f3e62c",
   "metadata": {},
   "outputs": [],
   "source": []
  },
  {
   "cell_type": "code",
   "execution_count": null,
   "id": "9aa78c51-b436-4cdf-9be7-130196c272bb",
   "metadata": {},
   "outputs": [],
   "source": []
  },
  {
   "cell_type": "code",
   "execution_count": 16,
   "id": "5178be53-c059-41f5-9577-c4b52b60e2ef",
   "metadata": {},
   "outputs": [
    {
     "data": {
      "text/plain": [
       "getLP (generic function with 1 method)"
      ]
     },
     "execution_count": 16,
     "metadata": {},
     "output_type": "execute_result"
    }
   ],
   "source": [
    "function getLP(poly,arrayOfPolynomials,var)\n",
    "    d = maxdegree(poly)\n",
    "    base=monomials(var,d)\n",
    "    b=coefficients(poly,base)\n",
    "    c=[]\n",
    "    nVars=[]\n",
    "    for f in arrayOfPolynomials\n",
    "        deg=d - maxdegree(f)\n",
    "        push!(nVars,size(monomials(var,deg))[1])\n",
    "        l = []\n",
    "        for g in monomials(var,deg)\n",
    "            basepoly=g*f\n",
    "            push!(l,coefficients(basepoly,monomials(var,d)))\n",
    "        end\n",
    "        l=transpose(reduce(vcat,transpose.(l)))\n",
    "        push!(c,l)\n",
    "    end\n",
    "    c=transpose(reduce(vcat,transpose.(c)))\n",
    "    \n",
    "    #Create Linear Program\n",
    "    m = size(b,1) #Number of Monomials in Polynom to Match\n",
    "    LP = Model(HiGHS.Optimizer) # Initialize Model\n",
    "    n=size(c,2) # Number of Variables\n",
    "    @variable(LP, u[1:n]>=0)\n",
    "    for i in 1:m\n",
    "        @constraint(LP, sum(dot(u,c[i,:])) == b[i])\n",
    "    end\n",
    "    print(LP)\n",
    "    return (LP,u,b,c,nVars)\n",
    "end"
   ]
  }
 ],
 "metadata": {
  "kernelspec": {
   "display_name": "Julia 1.7.2",
   "language": "julia",
   "name": "julia-1.7"
  },
  "language_info": {
   "file_extension": ".jl",
   "mimetype": "application/julia",
   "name": "julia",
   "version": "1.7.2"
  }
 },
 "nbformat": 4,
 "nbformat_minor": 5
}
