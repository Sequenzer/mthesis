{
 "cells": [
  {
   "cell_type": "code",
   "execution_count": 1,
   "id": "a8422eec-1a36-4b2f-9a00-b9610c925e2e",
   "metadata": {},
   "outputs": [
    {
     "data": {
      "text/plain": [
       "4-element Vector{Polynomial{true, Int64}}:\n",
       " 1\n",
       " x₁ - x₂\n",
       " x₁ - x₃\n",
       " x₁² - 4x₂x₃"
      ]
     },
     "execution_count": 1,
     "metadata": {},
     "output_type": "execute_result"
    }
   ],
   "source": [
    "using DynamicPolynomials,LinearAlgebra\n",
    "using NBInclude\n",
    "\n",
    "\n",
    "using JuMP\n",
    "using MadNLP\n",
    "import HiGHS\n",
    "\n",
    "\n",
    "@nbinclude(\"Wang to Dickinson.ipynb\")\n",
    "@nbinclude(\"Methods.ipynb\")"
   ]
  },
  {
   "cell_type": "code",
   "execution_count": 2,
   "id": "35601bd4-30a1-4d7c-ba1b-12309ae55edc",
   "metadata": {},
   "outputs": [],
   "source": [
    "# Example Signomial"
   ]
  },
  {
   "cell_type": "code",
   "execution_count": 3,
   "id": "902ce3bc-a5f1-4f0b-8ba3-06471527b1b0",
   "metadata": {},
   "outputs": [
    {
     "data": {
      "text/plain": [
       "4-element Vector{Int64}:\n",
       "  1\n",
       " -1\n",
       "  1\n",
       "  1"
      ]
     },
     "execution_count": 3,
     "metadata": {},
     "output_type": "execute_result"
    }
   ],
   "source": [
    "c = [1,-1,-1]\n",
    "A=[3//2 0;0 1;0 -1]\n",
    "H=[1 0;-1 0;0 1;0 -1]\n",
    "d=[1,-1,1,1]\n"
   ]
  },
  {
   "cell_type": "code",
   "execution_count": 4,
   "id": "fb3c9b57-bddd-4411-aa96-22336b647446",
   "metadata": {},
   "outputs": [
    {
     "data": {
      "text/plain": [
       "(x₁ - x₂ - x₃, Any[-x₁² + 20.085536923187668x₄², 0.049787068367863944x₁² - x₄², -x₂ + 7.38905609893065x₃, 7.38905609893065x₂ - x₃, x₁ - 4.4816890703380645x₄, x₂ - 2.718281828459045x₄, x₃ - 2.718281828459045x₄, -x₁ + 4.4816890703380645x₄, -x₂ + 0.36787944117144233x₄, -x₃ + 0.36787944117144233x₄, x₄])"
      ]
     },
     "execution_count": 4,
     "metadata": {},
     "output_type": "execute_result"
    }
   ],
   "source": [
    "h,arrayOfPolynomials = getallConstraints(A,H,c,d)"
   ]
  },
  {
   "cell_type": "code",
   "execution_count": 10,
   "id": "3a539eed-28c5-4f58-a6be-0c4411e92a3a",
   "metadata": {},
   "outputs": [
    {
     "data": {
      "text/latex": [
       "$$ x_{1}^{2} + x_{1}x_{4} - x_{2}^{2} - 2x_{2}x_{3} - x_{2}x_{4} - x_{3}^{2} - x_{3}x_{4} $$"
      ],
      "text/plain": [
       "x₁² + x₁x₄ - x₂² - 2x₂x₃ - x₂x₄ - x₃² - x₃x₄"
      ]
     },
     "execution_count": 10,
     "metadata": {},
     "output_type": "execute_result"
    }
   ],
   "source": [
    "var = variables([arrayOfPolynomials...,h])\n",
    "poly=polynomial(monomials(var,1))^1*h"
   ]
  },
  {
   "cell_type": "code",
   "execution_count": 11,
   "id": "adf0ca24-6ca8-49b0-9e7a-93bc644ca24e",
   "metadata": {},
   "outputs": [
    {
     "data": {
      "text/plain": [
       "11-element Vector{Any}:\n",
       " 0.0\n",
       " 20.085536923187668\n",
       " 0.0\n",
       " 0.0\n",
       " 0.46938515602012626x₂ + 0.30521515877232863x₃\n",
       " 0.0\n",
       " 0.0\n",
       " 4.481689070338065x₄\n",
       " 0.46938515602012626x₁ + x₂\n",
       " 0.30521515877232863x₁ + 2.0x₂ + x₃\n",
       " 5.196729539400994x₁"
      ]
     },
     "execution_count": 11,
     "metadata": {},
     "output_type": "execute_result"
    }
   ],
   "source": [
    "sol = getSolution(poly,arrayOfPolynomials,var)"
   ]
  },
  {
   "cell_type": "code",
   "execution_count": 12,
   "id": "6630862f-fbf7-4094-9e7f-49b2c83d3a0e",
   "metadata": {},
   "outputs": [
    {
     "data": {
      "text/plain": [
       "11-element Vector{Any}:\n",
       " -x₁² + 20.085536923187668x₄²\n",
       " 0.049787068367863944x₁² - x₄²\n",
       " -x₂ + 7.38905609893065x₃\n",
       " 7.38905609893065x₂ - x₃\n",
       " x₁ - 4.4816890703380645x₄\n",
       " x₂ - 2.718281828459045x₄\n",
       " x₃ - 2.718281828459045x₄\n",
       " -x₁ + 4.4816890703380645x₄\n",
       " -x₂ + 0.36787944117144233x₄\n",
       " -x₃ + 0.36787944117144233x₄\n",
       " x₄"
      ]
     },
     "execution_count": 12,
     "metadata": {},
     "output_type": "execute_result"
    }
   ],
   "source": [
    "arr =arrayOfPolynomials"
   ]
  },
  {
   "cell_type": "code",
   "execution_count": 13,
   "id": "3eee8841-e7da-408d-a68d-e5aa389c01c3",
   "metadata": {},
   "outputs": [
    {
     "data": {
      "text/latex": [
       "$$ x_{1}^{2} + x_{1}x_{4} - x_{2}^{2} - 2.0x_{2}x_{3} - x_{2}x_{4} - x_{3}^{2} - x_{3}x_{4} $$"
      ],
      "text/plain": [
       "x₁² + x₁x₄ - x₂² - 2.0x₂x₃ - x₂x₄ - x₃² - x₃x₄"
      ]
     },
     "execution_count": 13,
     "metadata": {},
     "output_type": "execute_result"
    }
   ],
   "source": [
    "sum(sol.*arr)"
   ]
  },
  {
   "cell_type": "code",
   "execution_count": 14,
   "id": "6e40806d-d6de-43c0-9713-442f48775785",
   "metadata": {},
   "outputs": [
    {
     "data": {
      "text/latex": [
       "$$ x_{1}^{2} + x_{1}x_{4} - x_{2}^{2} - 2x_{2}x_{3} - x_{2}x_{4} - x_{3}^{2} - x_{3}x_{4} $$"
      ],
      "text/plain": [
       "x₁² + x₁x₄ - x₂² - 2x₂x₃ - x₂x₄ - x₃² - x₃x₄"
      ]
     },
     "execution_count": 14,
     "metadata": {},
     "output_type": "execute_result"
    }
   ],
   "source": [
    "polynomial(monomials(var,1))^1*h"
   ]
  },
  {
   "cell_type": "code",
   "execution_count": null,
   "id": "51bd5942-7ae9-4986-9fcb-5bddc0b581a2",
   "metadata": {},
   "outputs": [],
   "source": []
  }
 ],
 "metadata": {
  "kernelspec": {
   "display_name": "Julia 1.7.2",
   "language": "julia",
   "name": "julia-1.7"
  },
  "language_info": {
   "file_extension": ".jl",
   "mimetype": "application/julia",
   "name": "julia",
   "version": "1.7.2"
  }
 },
 "nbformat": 4,
 "nbformat_minor": 5
}
