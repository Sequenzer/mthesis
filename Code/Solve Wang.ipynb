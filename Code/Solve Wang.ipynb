{
 "cells": [
  {
   "cell_type": "code",
   "execution_count": 1,
   "id": "a8422eec-1a36-4b2f-9a00-b9610c925e2e",
   "metadata": {
    "collapsed": true,
    "jupyter": {
     "outputs_hidden": true
    },
    "tags": []
   },
   "outputs": [
    {
     "data": {
      "text/plain": [
       "4-element Vector{Polynomial{true, Int64}}:\n",
       " 1\n",
       " x₁ - x₂\n",
       " x₁ - x₃\n",
       " x₁² - 4x₂x₃"
      ]
     },
     "execution_count": 1,
     "metadata": {},
     "output_type": "execute_result"
    }
   ],
   "source": [
    "using DynamicPolynomials,LinearAlgebra\n",
    "using NBInclude\n",
    "\n",
    "\n",
    "using JuMP\n",
    "using MadNLP\n",
    "import HiGHS\n",
    "\n",
    "\n",
    "@nbinclude(\"Wang to Dickinson.ipynb\")\n",
    "@nbinclude(\"Methods.ipynb\")"
   ]
  },
  {
   "cell_type": "markdown",
   "id": "145e3755-79fa-4803-966f-8049f7e78ce4",
   "metadata": {},
   "source": [
    "# Example Signomial\n",
    "Here just the raw solution to Wang's Example Case.\n",
    "\n"
   ]
  },
  {
   "cell_type": "code",
   "execution_count": 2,
   "id": "35601bd4-30a1-4d7c-ba1b-12309ae55edc",
   "metadata": {},
   "outputs": [],
   "source": [
    "# Example Signomial"
   ]
  },
  {
   "cell_type": "code",
   "execution_count": 3,
   "id": "902ce3bc-a5f1-4f0b-8ba3-06471527b1b0",
   "metadata": {},
   "outputs": [
    {
     "data": {
      "text/plain": [
       "4-element Vector{Int64}:\n",
       "  1\n",
       " -1\n",
       "  1\n",
       "  1"
      ]
     },
     "execution_count": 3,
     "metadata": {},
     "output_type": "execute_result"
    }
   ],
   "source": [
    "c = [1,-1,-1]\n",
    "A=[3//2 0;0 1;0 -1]\n",
    "H=[1 0;-1 0;0 1;0 -1]\n",
    "d=[1,-1,1,1]\n"
   ]
  },
  {
   "cell_type": "code",
   "execution_count": 4,
   "id": "fb3c9b57-bddd-4411-aa96-22336b647446",
   "metadata": {},
   "outputs": [
    {
     "data": {
      "text/plain": [
       "(x₁ - x₂ - x₃, Any[-x₁² + 20.085536923187668x₄², 0.049787068367863944x₁² - x₄², -x₂ + 7.38905609893065x₃, 7.38905609893065x₂ - x₃, x₁ - 4.4816890703380645x₄, x₂ - 2.718281828459045x₄, x₃ - 2.718281828459045x₄, -x₁ + 4.4816890703380645x₄, -x₂ + 0.36787944117144233x₄, -x₃ + 0.36787944117144233x₄, x₄])"
      ]
     },
     "execution_count": 4,
     "metadata": {},
     "output_type": "execute_result"
    }
   ],
   "source": [
    "h,arrayOfPolynomials = getallConstraints(A,H,c,d)"
   ]
  },
  {
   "cell_type": "code",
   "execution_count": 5,
   "id": "3a539eed-28c5-4f58-a6be-0c4411e92a3a",
   "metadata": {},
   "outputs": [
    {
     "data": {
      "text/latex": [
       "$$ x_{1}^{2} + x_{1}x_{4} - x_{2}^{2} - 2x_{2}x_{3} - x_{2}x_{4} - x_{3}^{2} - x_{3}x_{4} $$"
      ],
      "text/plain": [
       "x₁² + x₁x₄ - x₂² - 2x₂x₃ - x₂x₄ - x₃² - x₃x₄"
      ]
     },
     "execution_count": 5,
     "metadata": {},
     "output_type": "execute_result"
    }
   ],
   "source": [
    "var = variables([arrayOfPolynomials...,h])\n",
    "poly=polynomial(monomials(var,1))^1*h"
   ]
  },
  {
   "cell_type": "code",
   "execution_count": 6,
   "id": "adf0ca24-6ca8-49b0-9e7a-93bc644ca24e",
   "metadata": {},
   "outputs": [
    {
     "data": {
      "text/plain": [
       "11-element Vector{Any}:\n",
       " 0.0\n",
       " 20.085536923187668\n",
       " 0.0\n",
       " 0.0\n",
       " 0.46938515602012626x₂ + 0.30521515877232863x₃\n",
       " 0.0\n",
       " 0.0\n",
       " 4.481689070338065x₄\n",
       " 0.46938515602012626x₁ + x₂\n",
       " 0.30521515877232863x₁ + 2.0x₂ + x₃\n",
       " 5.196729539400994x₁"
      ]
     },
     "execution_count": 6,
     "metadata": {},
     "output_type": "execute_result"
    }
   ],
   "source": [
    "sol = getSolution(poly,arrayOfPolynomials,var)"
   ]
  },
  {
   "cell_type": "code",
   "execution_count": 10,
   "id": "51bd5942-7ae9-4986-9fcb-5bddc0b581a2",
   "metadata": {},
   "outputs": [
    {
     "data": {
      "text/latex": [
       "$$ -x_{1}^{2} + 20.085536923187668x_{4}^{2} $$"
      ],
      "text/plain": [
       "-x₁² + 20.085536923187668x₄²"
      ]
     },
     "execution_count": 10,
     "metadata": {},
     "output_type": "execute_result"
    }
   ],
   "source": [
    "coefficients(arr[1]"
   ]
  },
  {
   "cell_type": "code",
   "execution_count": null,
   "id": "f363614e-77d5-4f2b-86fd-1774a611f0b2",
   "metadata": {},
   "outputs": [],
   "source": []
  }
 ],
 "metadata": {
  "kernelspec": {
   "display_name": "Julia 1.7.2",
   "language": "julia",
   "name": "julia-1.7"
  },
  "language_info": {
   "file_extension": ".jl",
   "mimetype": "application/julia",
   "name": "julia",
   "version": "1.7.2"
  }
 },
 "nbformat": 4,
 "nbformat_minor": 5
}
