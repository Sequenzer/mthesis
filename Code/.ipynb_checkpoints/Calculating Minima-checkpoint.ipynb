{
 "cells": [
  {
   "cell_type": "code",
   "execution_count": 1,
   "id": "1a068198-066f-4d9e-b553-8d634b85b54c",
   "metadata": {},
   "outputs": [],
   "source": [
    "using DynamicPolynomials,LinearAlgebra\n",
    "\n",
    "using JuMP\n",
    "using NLopt\n",
    "import HiGHS"
   ]
  },
  {
   "cell_type": "code",
   "execution_count": 2,
   "id": "566f1d4d-8db9-4a07-aa4b-4e77ee0a13ea",
   "metadata": {},
   "outputs": [
    {
     "data": {
      "text/plain": [
       "4×2 Matrix{Int64}:\n",
       "  1   0\n",
       " -1   0\n",
       "  0   1\n",
       "  0  -1"
      ]
     },
     "execution_count": 2,
     "metadata": {},
     "output_type": "execute_result"
    }
   ],
   "source": [
    "c = [1,-1,-1]\n",
    "A=[3//2 0;0 1;0 -1]\n",
    "H=[1 0;-1 0;0 1;0 -1]\n",
    "d=[1,1,1,1]\n",
    "H"
   ]
  },
  {
   "cell_type": "code",
   "execution_count": 3,
   "id": "ed5ad13c-ca48-4cbb-960f-716da164b986",
   "metadata": {},
   "outputs": [
    {
     "data": {
      "text/plain": [
       "-3.0427023118291987"
      ]
     },
     "execution_count": 3,
     "metadata": {},
     "output_type": "execute_result"
    }
   ],
   "source": [
    "function Signom(A,c)\n",
    "    return f(x)=transpose(c)*[ℯ^(transpose(u)*x) for u in eachrow(A)]\n",
    "end\n",
    "f=Signom(A,c)\n",
    "f([1,2])"
   ]
  },
  {
   "cell_type": "code",
   "execution_count": 13,
   "id": "9ee471be-a588-45db-8bff-d77a990334b5",
   "metadata": {},
   "outputs": [
    {
     "name": "stdout",
     "output_type": "stream",
     "text": [
      "got 0.4200527210709981 at [0.5, 0.17644428847914972] after 3 iterations (returned FORCED_STOP)\n"
     ]
    }
   ],
   "source": [
    "opt=Nothing\n",
    "opt = Opt(:LD_MMA, 2)\n",
    "opt.lower_bounds = [-1, -1]\n",
    "opt.upper_bounds = [1, 1]\n",
    "opt.xtol_rel = 1e-4\n",
    "\n",
    "function myfunc(x::Vector, grad::Vector)\n",
    "    if length(grad) > 0\n",
    "        grad[1] = 0\n",
    "        grad[2] = 0.5/sqrt(x[2])\n",
    "    end\n",
    "    return sqrt(x[2])\n",
    "end\n",
    "\n",
    "function sigOpt(x::Vector, grad::Vector)\n",
    "    if length(grad) > 0\n",
    "        n = length(grad)\n",
    "        for i in 1:n\n",
    "            grad[i]=(transpose(A[:,i].*c))*[ℯ^(transpose(u)*x) for u in eachrow(A)]\n",
    "        end\n",
    "    end\n",
    "    return sig(x)\n",
    "end\n",
    "\n",
    "function linCon(x::Vector, grad::Vector, i)\n",
    "    if length(grad) > 0\n",
    "        n=size(H)[2]\n",
    "        for j in 1:n\n",
    "            grad[j] = H[i,j]\n",
    "        end\n",
    "    end\n",
    "    (H*x.-d)[i]\n",
    "end\n",
    "\n",
    "opt.maxeval=100\n",
    "\n",
    "opt.min_objective = myfunc\n",
    "\n",
    "m = size(H)[1]\n",
    "for i in 1:m\n",
    "    inequality_constraint!(opt, (x,g) -> linCon(x,g,i), 1e-8)   \n",
    "end\n",
    "\n",
    "(minf,minx,ret) = optimize(opt, [.5, .5])\n",
    "numevals = opt.numevals # the number of function evaluations\n",
    "println(\"got $minf at $minx after $numevals iterations (returned $ret)\")"
   ]
  },
  {
   "cell_type": "code",
   "execution_count": 10,
   "id": "b1bf35f4-4895-4fb8-8e84-a99a4968808c",
   "metadata": {},
   "outputs": [
    {
     "data": {
      "text/plain": [
       "Nothing"
      ]
     },
     "execution_count": 10,
     "metadata": {},
     "output_type": "execute_result"
    }
   ],
   "source": [
    "opt"
   ]
  },
  {
   "cell_type": "code",
   "execution_count": 5,
   "id": "22702735-92d4-4fd6-8ecd-608037da603d",
   "metadata": {},
   "outputs": [
    {
     "data": {
      "text/latex": [
       "$$ \\begin{aligned}\n",
       "\\text{feasibility}\\\\\n",
       "\\text{Subject to} \\quad & x_{1} \\leq 1.0\\\\\n",
       " & -x_{1} \\leq 1.0\\\\\n",
       " & x_{2} \\leq 1.0\\\\\n",
       " & -x_{2} \\leq 1.0\\\\\n",
       "\\end{aligned} $$"
      ]
     },
     "metadata": {},
     "output_type": "display_data"
    },
    {
     "name": "stdout",
     "output_type": "stream",
     "text": [
      "Presolving model\n",
      "0 rows, 0 cols, 0 nonzeros\n",
      "0 rows, 0 cols, 0 nonzeros\n",
      "Presolve : Reductions: rows 0(-4); columns 0(-2); elements 0(-4) - Reduced to empty\n",
      "Solving the original LP from the solution after postsolve\n",
      "Model   status      : Optimal\n",
      "Objective value     :  0.0000000000e+00\n",
      "HiGHS run time      :          0.00\n"
     ]
    },
    {
     "data": {
      "text/latex": [
       "$$ \\begin{aligned}\n",
       "\\text{feasibility}\\\\\n",
       "\\text{Subject to} \\quad & x_{1} \\leq 1.0\\\\\n",
       " & -x_{1} \\leq 1.0\\\\\n",
       " & x_{2} \\leq 1.0\\\\\n",
       " & -x_{2} \\leq 1.0\\\\\n",
       "\\end{aligned} $$"
      ]
     },
     "metadata": {},
     "output_type": "display_data"
    },
    {
     "name": "stdout",
     "output_type": "stream",
     "text": [
      "Presolving model\n",
      "0 rows, 0 cols, 0 nonzeros\n",
      "0 rows, 0 cols, 0 nonzeros\n",
      "Presolve : Reductions: rows 0(-4); columns 0(-2); elements 0(-4) - Reduced to empty\n",
      "Solving the original LP from the solution after postsolve\n",
      "Model   status      : Optimal\n",
      "Objective value     :  0.0000000000e+00\n",
      "HiGHS run time      :          0.00\n"
     ]
    },
    {
     "data": {
      "text/plain": [
       "2-element Vector{Any}:\n",
       " [-1.0, -1.0]\n",
       " [-1.0, -1.0]"
      ]
     },
     "execution_count": 5,
     "metadata": {},
     "output_type": "execute_result"
    }
   ],
   "source": [
    "function TransformSet(A,H,d)\n",
    "    n= size(A)[2]\n",
    "    min=[]\n",
    "    sig=Signom(A,c)\n",
    "    for i in 1:2\n",
    "        u = [ j-i for j in 1:2]\n",
    "        LP = Model(HiGHS.Optimizer)\n",
    "        @variable(LP,x[1:n])\n",
    "        @constraint(LP,H*x.<=d)\n",
    "        print(LP)\n",
    "        JuMP.optimize!(LP)\n",
    "        Solution = JuMP.value.(x)\n",
    "        push!(min,Solution)\n",
    "    end\n",
    "    return min\n",
    "end\n",
    "TransformSet(A,H,d)"
   ]
  },
  {
   "cell_type": "code",
   "execution_count": 6,
   "id": "82dcb2b5-e527-4acb-9efd-6ffe0f16c630",
   "metadata": {},
   "outputs": [
    {
     "name": "stdout",
     "output_type": "stream",
     "text": [
      "[3.175500024919012, -1.0421906109874948]"
     ]
    },
    {
     "ename": "LoadError",
     "evalue": "UndefVarError: sig not defined",
     "output_type": "error",
     "traceback": [
      "UndefVarError: sig not defined",
      "",
      "Stacktrace:",
      " [1] myfunc2(x::Vector{Float64}, grad::Vector{Float64})",
      "   @ Main .\\In[6]:9",
      " [2] top-level scope",
      "   @ In[6]:11",
      " [3] eval",
      "   @ .\\boot.jl:373 [inlined]",
      " [4] include_string(mapexpr::typeof(REPL.softscope), mod::Module, code::String, filename::String)",
      "   @ Base .\\loading.jl:1196"
     ]
    }
   ],
   "source": [
    "function myfunc2(x::Vector, grad::Vector)\n",
    "    if length(grad) > 0\n",
    "        n= size(A)[2]\n",
    "        for i in 1:n\n",
    "            grad[i]=(transpose(A[:,i].*c))*[ℯ^(transpose(u)*x) for u in eachrow(A)]\n",
    "        end\n",
    "        print(grad)\n",
    "    end\n",
    "    return sig(x)\n",
    "end\n",
    "x = myfunc2([.5,.5],[.1,.2])"
   ]
  }
 ],
 "metadata": {
  "kernelspec": {
   "display_name": "Julia 1.7.2",
   "language": "julia",
   "name": "julia-1.7"
  },
  "language_info": {
   "file_extension": ".jl",
   "mimetype": "application/julia",
   "name": "julia",
   "version": "1.7.2"
  }
 },
 "nbformat": 4,
 "nbformat_minor": 5
}
