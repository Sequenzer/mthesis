{
 "cells": [
  {
   "cell_type": "code",
   "execution_count": 1,
   "id": "1a068198-066f-4d9e-b553-8d634b85b54c",
   "metadata": {},
   "outputs": [],
   "source": [
    "using DynamicPolynomials,LinearAlgebra\n",
    "\n",
    "using JuMP\n",
    "using NLopt\n",
    "import HiGHS"
   ]
  },
  {
   "cell_type": "code",
   "execution_count": 2,
   "id": "566f1d4d-8db9-4a07-aa4b-4e77ee0a13ea",
   "metadata": {},
   "outputs": [
    {
     "data": {
      "text/plain": [
       "4×2 Matrix{Int64}:\n",
       "  1   0\n",
       " -1   0\n",
       "  0   1\n",
       "  0  -1"
      ]
     },
     "execution_count": 2,
     "metadata": {},
     "output_type": "execute_result"
    }
   ],
   "source": [
    "c = [1,-1,-1]\n",
    "A=[3//2 0;0 1;0 -1]\n",
    "H=[1 0;-1 0;0 1;0 -1]\n",
    "d=[1,-1,1,1]\n",
    "H"
   ]
  },
  {
   "cell_type": "code",
   "execution_count": 3,
   "id": "ed5ad13c-ca48-4cbb-960f-716da164b986",
   "metadata": {},
   "outputs": [
    {
     "data": {
      "text/plain": [
       "-3.0427023118291987"
      ]
     },
     "execution_count": 3,
     "metadata": {},
     "output_type": "execute_result"
    }
   ],
   "source": [
    "function Signom(A,c)\n",
    "    return f(x)=transpose(c)*[ℯ^(transpose(u)*x) for u in eachrow(A)]\n",
    "end\n",
    "f=Signom(A,c)\n",
    "f([1,2])"
   ]
  },
  {
   "cell_type": "code",
   "execution_count": 4,
   "id": "22702735-92d4-4fd6-8ecd-608037da603d",
   "metadata": {},
   "outputs": [
    {
     "name": "stdout",
     "output_type": "stream",
     "text": [
      "Presolving model\n",
      "0 rows, 0 cols, 0 nonzeros\n",
      "0 rows, 0 cols, 0 nonzeros\n",
      "Presolve : Reductions: rows 0(-4); columns 0(-2); elements 0(-4) - Reduced to empty\n",
      "Solving the original LP from the solution after postsolve\n",
      "Model   status      : Optimal\n",
      "Objective value     :  0.0000000000e+00\n",
      "HiGHS run time      :          0.00\n"
     ]
    },
    {
     "data": {
      "text/plain": [
       "2-element Vector{Float64}:\n",
       "  1.0\n",
       " -1.0"
      ]
     },
     "execution_count": 4,
     "metadata": {},
     "output_type": "execute_result"
    }
   ],
   "source": [
    "function GetFeasible(A,H,d)\n",
    "    n= size(A)[2]\n",
    "    LP = Model(HiGHS.Optimizer)\n",
    "    @variable(LP,x[1:n])\n",
    "    @constraint(LP,H*x.<=d)\n",
    "    JuMP.optimize!(LP)\n",
    "    Solution = JuMP.value.(x)\n",
    "    return Solution\n",
    "end\n",
    "GetFeasible(A,H,d)"
   ]
  },
  {
   "cell_type": "code",
   "execution_count": 6,
   "id": "b1bf35f4-4895-4fb8-8e84-a99a4968808c",
   "metadata": {},
   "outputs": [
    {
     "name": "stdout",
     "output_type": "stream",
     "text": [
      "got 1.395527857678232 at [1.0000000037078625, -0.9999999863664086] after 9 iterations (returned XTOL_REACHED)\n"
     ]
    },
    {
     "data": {
      "text/plain": [
       "(1.395527857678232, [1.0000000037078625, -0.9999999863664086])"
      ]
     },
     "execution_count": 6,
     "metadata": {},
     "output_type": "execute_result"
    }
   ],
   "source": [
    "function findMinOnSet(A,H,c,d,startpoint)\n",
    "    # Define Optimizer and Constraints\n",
    "    function sigOpt(x::Vector, grad::Vector)\n",
    "        sig=Signom(A,c)\n",
    "        if length(grad) > 0\n",
    "            n = length(grad)\n",
    "            for i in 1:n\n",
    "                grad[i]=(transpose(A[:,i].*c))*[ℯ^(transpose(u)*x) for u in eachrow(A)]\n",
    "            end\n",
    "        end\n",
    "        return sig(x)\n",
    "    end\n",
    "    function linCon(x::Vector, grad::Vector, i)\n",
    "        if length(grad) > 0\n",
    "            n=length(grad)\n",
    "            for j in 1:n\n",
    "                grad[j] = H[i,j]\n",
    "            end\n",
    "        end\n",
    "        (H*x.-d)[i]\n",
    "    end\n",
    "    #Setup ALgorithm\n",
    "    opt = Opt(:LD_MMA, size(A)[2])\n",
    "    opt.xtol_rel = 1e-4\n",
    "    opt.maxeval= 200\n",
    "    opt.min_objective = sigOpt\n",
    "    # Ad Constraints to it\n",
    "    m = size(H)[1]\n",
    "    for i in 1:m\n",
    "        inequality_constraint!(opt, (x,g) -> linCon(x,g,i), 1e-4)   \n",
    "    end\n",
    "    (minf,minx,ret) = optimize(opt, startpoint)\n",
    "    numevals = opt.numevals # the number of function evaluations\n",
    "    println(\"got $minf at $minx after $numevals iterations (returned $ret)\")\n",
    "    return (minf,minx)\n",
    "end\n",
    "\n",
    "findMinOnSet(A,H,d,[1,-.5])"
   ]
  },
  {
   "cell_type": "code",
   "execution_count": 11,
   "id": "3be16bb7-62a8-4488-836b-e606b9a3b25e",
   "metadata": {},
   "outputs": [
    {
     "name": "stdout",
     "output_type": "stream",
     "text": [
      "got 2.4816890735212356 at [1.0000000004736664, 1.0331047447289614e-6] after 19 iterations (returned XTOL_REACHED)\n"
     ]
    },
    {
     "data": {
      "text/plain": [
       "(2.4816890735212356, [1.0000000004736664, 1.0331047447289614e-6])"
      ]
     },
     "execution_count": 11,
     "metadata": {},
     "output_type": "execute_result"
    }
   ],
   "source": [
    "function findMaxOnSet(A,H,d,startpoint)\n",
    "    # Define Optimizer and Constraints\n",
    "    function sigOpt(x::Vector, grad::Vector)\n",
    "        sig=Signom(A,c)\n",
    "        if length(grad) > 0\n",
    "            n = length(grad)\n",
    "            for i in 1:n\n",
    "                grad[i]=(transpose(A[:,i].*c))*[ℯ^(transpose(u)*x) for u in eachrow(A)]\n",
    "            end\n",
    "        end\n",
    "        return sig(x)\n",
    "    end\n",
    "    function linCon(x::Vector, grad::Vector, i)\n",
    "        if length(grad) > 0\n",
    "            n=length(grad)\n",
    "            for j in 1:n\n",
    "                grad[j] = H[i,j]\n",
    "            end\n",
    "        end\n",
    "        (H*x.-d)[i]\n",
    "    end\n",
    "    #Setup ALgorithm\n",
    "    opt = Opt(:LD_MMA, size(A)[2])\n",
    "    opt.xtol_rel = 1e-4\n",
    "    opt.maxeval= 200\n",
    "    opt.max_objective = sigOpt\n",
    "    # Ad Constraints to it\n",
    "    m = size(H)[1]\n",
    "    for i in 1:m\n",
    "        inequality_constraint!(opt, (x,g) -> linCon(x,g,i), 1e-4)   \n",
    "    end\n",
    "    (minf,minx,ret) = optimize(opt, startpoint)\n",
    "    numevals = opt.numevals # the number of function evaluations\n",
    "    println(\"got $minf at $minx after $numevals iterations (returned $ret)\")\n",
    "    return (minf,minx)\n",
    "end\n",
    "\n",
    "findMaxOnSet(A,H,d,[1,-.6])"
   ]
  },
  {
   "cell_type": "code",
   "execution_count": 41,
   "id": "000f88b5-8895-4ebd-bf1e-f59b25393d61",
   "metadata": {},
   "outputs": [
    {
     "data": {
      "text/plain": [
       "simplyfyNumber (generic function with 1 method)"
      ]
     },
     "execution_count": 41,
     "metadata": {},
     "output_type": "execute_result"
    }
   ],
   "source": [
    "function simplyfyNumber(x)\n",
    "    for i in 1:6\n",
    "        if round(x,RoundDown,digits=i)!= 0\n",
    "            return round(x,RoundDown,digits=i)\n",
    "        end\n",
    "    end\n",
    "    return x\n",
    "end"
   ]
  },
  {
   "cell_type": "code",
   "execution_count": null,
   "id": "6e0df2d0-a241-4b78-959c-6b3c01c35b01",
   "metadata": {},
   "outputs": [],
   "source": []
  }
 ],
 "metadata": {
  "kernelspec": {
   "display_name": "Julia 1.7.2",
   "language": "julia",
   "name": "julia-1.7"
  },
  "language_info": {
   "file_extension": ".jl",
   "mimetype": "application/julia",
   "name": "julia",
   "version": "1.7.2"
  }
 },
 "nbformat": 4,
 "nbformat_minor": 5
}
