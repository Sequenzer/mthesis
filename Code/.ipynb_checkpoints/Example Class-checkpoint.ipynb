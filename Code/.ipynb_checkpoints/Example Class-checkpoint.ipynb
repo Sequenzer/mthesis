{
 "cells": [
  {
   "cell_type": "code",
   "execution_count": 1,
   "id": "7ffc86c6-9a6d-4846-8cae-289b89755098",
   "metadata": {},
   "outputs": [
    {
     "data": {
      "text/plain": [
       "4-element Vector{Any}:\n",
       " [0.0, 0.0, 0.0, 0.0, 0.0, 0.0]\n",
       " [1.0, 2.0, 0.0]\n",
       " [1.0, 0.0, 2.0]\n",
       " [1.0]"
      ]
     },
     "execution_count": 1,
     "metadata": {},
     "output_type": "execute_result"
    }
   ],
   "source": [
    "using DynamicPolynomials,LinearAlgebra\n",
    "using NBInclude\n",
    "\n",
    "\n",
    "using JuMP\n",
    "using MadNLP\n",
    "import HiGHS\n",
    "\n",
    "\n",
    "@nbinclude(\"Wang to Dickinson.ipynb\")\n",
    "@nbinclude(\"Methods.ipynb\")\n",
    "# @nbinclude(\"MinMaxonSet.ipynb\")"
   ]
  },
  {
   "cell_type": "code",
   "execution_count": 2,
   "id": "dc656d3e-8e2d-46dd-8f79-8409c9a74f06",
   "metadata": {},
   "outputs": [
    {
     "data": {
      "text/plain": [
       "3"
      ]
     },
     "execution_count": 2,
     "metadata": {},
     "output_type": "execute_result"
    }
   ],
   "source": [
    "c₁ = [5/8ℯ,-5/4,5ℯ/8,5/8ℯ,-5/4,5ℯ/8]\n",
    "A₁=[5/2;3/2;1/2;-5/2;-3/2;-1/2]\n",
    "H=[1;-1]\n",
    "d=[10;10]\n",
    "size(A,1)"
   ]
  },
  {
   "cell_type": "code",
   "execution_count": null,
   "id": "ed2c9d05-c58e-4864-9169-82058e5717aa",
   "metadata": {},
   "outputs": [
    {
     "data": {
      "text/plain": [
       "Signom (generic function with 1 method)"
      ]
     },
     "execution_count": 3,
     "metadata": {},
     "output_type": "execute_result"
    }
   ],
   "source": [
    "function Signom(A,c)\n",
    "    return f(x)=transpose(c)*[ℯ^(transpose(u)*x) for u in eachrow(A)]\n",
    "end"
   ]
  },
  {
   "cell_type": "code",
   "execution_count": null,
   "id": "e9a669d7-c7b1-493f-86c6-68fbbc5a456e",
   "metadata": {},
   "outputs": [
    {
     "data": {
      "text/plain": [
       "(::var\"#f#11\"{Vector{Float64}, Vector{Float64}}) (generic function with 1 method)"
      ]
     },
     "execution_count": 4,
     "metadata": {},
     "output_type": "execute_result"
    }
   ],
   "source": [
    "f₁=Signom(A₁,c₁)"
   ]
  },
  {
   "cell_type": "code",
   "execution_count": null,
   "id": "898bf763-d79a-4770-81da-78b78b322388",
   "metadata": {},
   "outputs": [
    {
     "data": {
      "text/plain": [
       "1.3577015870381093"
      ]
     },
     "execution_count": 5,
     "metadata": {},
     "output_type": "execute_result"
    }
   ],
   "source": [
    "min= f₁([0])"
   ]
  },
  {
   "cell_type": "code",
   "execution_count": 28,
   "id": "24165c77-79e3-4b6b-b4a6-09d206afbe1a",
   "metadata": {},
   "outputs": [
    {
     "data": {
      "text/plain": [
       "7-element Vector{Float64}:\n",
       "  2.5\n",
       "  1.5\n",
       "  0.5\n",
       " -2.5\n",
       " -1.5\n",
       " -0.5\n",
       "  0.0"
      ]
     },
     "execution_count": 28,
     "metadata": {},
     "output_type": "execute_result"
    }
   ],
   "source": [
    "c = [5/8ℯ,-5/4,5ℯ/8,5/8ℯ,-5/4,5ℯ/8,-min]\n",
    "A=[5/2;3/2;1/2;-5/2;-3/2;-1/2;0]\n",
    "H=[1,-1]\n",
    "d=[2,2]\n",
    "A"
   ]
  },
  {
   "cell_type": "code",
   "execution_count": 29,
   "id": "3821efec-d25b-4da3-8f00-b5b6a46b6b12",
   "metadata": {},
   "outputs": [
    {
     "data": {
      "text/plain": [
       "(Any[-x₁⁵x₂³x₃ + 2.515438670919167e30x₄⁵x₅³x₆, 2.515438670919167e30x₁⁵x₂³x₃ - x₄⁵x₅³x₆], PolyVar{true}[x₁, x₂, x₃, x₄, x₅, x₆, x₇, x₈])"
      ]
     },
     "execution_count": 29,
     "metadata": {},
     "output_type": "execute_result"
    }
   ],
   "source": [
    "cons, var = SASbyMatrix(A,H,c,d)"
   ]
  },
  {
   "cell_type": "code",
   "execution_count": 36,
   "id": "13f9c19b-1b34-4fbe-9d3b-6f29f1beab5e",
   "metadata": {},
   "outputs": [
    {
     "name": "stdout",
     "output_type": "stream",
     "text": [
      "[2.5, 1.5, 0.5, -2.5, -1.5, -0.5, 0.0"
     ]
    },
    {
     "data": {
      "text/plain": [
       "7-element Vector{Any}:\n",
       " Any[5.0, [2.0]]\n",
       " Any[3.0, [2.0]]\n",
       " Any[1.0, [2.0]]\n",
       " Any[5.0, [-2.0]]\n",
       " Any[3.0, [-2.0]]\n",
       " Any[1.0, [-2.0]]\n",
       " Any[-0.0, [-2.0]]"
      ]
     },
     "execution_count": 36,
     "metadata": {},
     "output_type": "execute_result"
    },
    {
     "name": "stdout",
     "output_type": "stream",
     "text": [
      "]"
     ]
    }
   ],
   "source": [
    "hcat(A)\n",
    "print(A)\n",
    "max=[]\n",
    "for j in 1:size(A,1)\n",
    "    n = size(A,2)\n",
    "    LP = Model(HiGHS.Optimizer)\n",
    "    set_optimizer_attribute(LP, \"log_to_console\", \"false\")\n",
    "    @variable(LP,x[1:n])\n",
    "    @objective(LP,Max,(A.*x)[j])\n",
    "    @constraint(LP,H.*x.<=d)\n",
    "    JuMP.optimize!(LP)\n",
    "    Solution = JuMP.value.(x)\n",
    "    push!(max,[(A.*Solution)[j],Solution]) ##Warning !! Only Suport e^ has to be calculated\n",
    "end\n",
    "max"
   ]
  },
  {
   "cell_type": "code",
   "execution_count": 35,
   "id": "e4a30793-30ac-48a0-94a4-fc77d0c43633",
   "metadata": {},
   "outputs": [
    {
     "name": "stdout",
     "output_type": "stream",
     "text": [
      "[2.5, 1.5, 0.5, -2.5, -1.5, -0.5, 0.0]"
     ]
    },
    {
     "data": {
      "text/plain": [
       "7-element Vector{Any}:\n",
       " Any[-5.0, [-2.0]]\n",
       " Any[-3.0, [-2.0]]\n",
       " Any[-1.0, [-2.0]]\n",
       " Any[-5.0, [2.0]]\n",
       " Any[-3.0, [2.0]]\n",
       " Any[-1.0, [2.0]]\n",
       " Any[-0.0, [-2.0]]"
      ]
     },
     "execution_count": 35,
     "metadata": {},
     "output_type": "execute_result"
    }
   ],
   "source": [
    "hcat(A)\n",
    "print(A)\n",
    "min=[]\n",
    "for j in 1:size(A,1)\n",
    "    n = size(A,2)\n",
    "    LP = Model(HiGHS.Optimizer)\n",
    "    set_optimizer_attribute(LP, \"log_to_console\", \"false\")\n",
    "    @variable(LP,x[1:n])\n",
    "    @objective(LP,Min,(A.*x)[j])\n",
    "    @constraint(LP,H.*x.<=d)\n",
    "    JuMP.optimize!(LP)\n",
    "    Solution = JuMP.value.(x)\n",
    "    push!(min,[(A.*Solution)[j],Solution]) ##Warning !! Only Suport e^ has to be calculated\n",
    "end\n",
    "min"
   ]
  },
  {
   "cell_type": "code",
   "execution_count": 37,
   "id": "edbe9fa3-42b8-4f82-8295-a2e98feba47f",
   "metadata": {},
   "outputs": [
    {
     "data": {
      "text/plain": [
       "getRedCons (generic function with 1 method)"
      ]
     },
     "execution_count": 37,
     "metadata": {},
     "output_type": "execute_result"
    }
   ],
   "source": [
    "function getRedCons(A,H,d,var)\n",
    "    R=[]\n",
    "    # Start with upper bounds\n",
    "    C = max\n",
    "    nvars = size(C,1) #Number of  Variables\n",
    "    for i in 1:nvars\n",
    "        fun = var[i]-ℯ^C[i][1]*var[nvars+1]\n",
    "        push!(R,fun)\n",
    "    end\n",
    "    \n",
    "    # Add lower bounds\n",
    "     D = min\n",
    "    for i in 1:size(D,1)\n",
    "        fun = ℯ^D[i][1]*var[nvars+1]-var[i]\n",
    "        push!(R,fun)\n",
    "    end\n",
    "    return (R,nvars)\n",
    "end"
   ]
  },
  {
   "cell_type": "code",
   "execution_count": 41,
   "id": "bc0c48f3-5996-4aee-b777-b32d1d4599d7",
   "metadata": {},
   "outputs": [
    {
     "data": {
      "text/plain": [
       "(Any[x₁ - 148.4131591025766x₈, x₂ - 20.085536923187668x₈, x₃ - 2.718281828459045x₈, x₄ - 148.4131591025766x₈, x₅ - 20.085536923187668x₈, x₆ - 2.718281828459045x₈, x₇ - x₈, -x₁ + 0.006737946999085467x₈, -x₂ + 0.049787068367863944x₈, -x₃ + 0.36787944117144233x₈, -x₄ + 0.006737946999085467x₈, -x₅ + 0.049787068367863944x₈, -x₆ + 0.36787944117144233x₈, -x₇ + x₈], 7)"
      ]
     },
     "execution_count": 41,
     "metadata": {},
     "output_type": "execute_result"
    }
   ],
   "source": [
    "R,nvars = getRedCons(A,H,d,var)"
   ]
  },
  {
   "cell_type": "code",
   "execution_count": 45,
   "id": "b6b50c31-5f4a-46e6-b07a-f3fad04d2827",
   "metadata": {},
   "outputs": [
    {
     "data": {
      "text/plain": [
       "16-element Vector{Any}:\n",
       " -x₁⁵x₂³x₃ + 2.515438670919167e30x₄⁵x₅³x₆\n",
       " 2.515438670919167e30x₁⁵x₂³x₃ - x₄⁵x₅³x₆\n",
       " x₁ - 148.4131591025766x₈\n",
       " x₂ - 20.085536923187668x₈\n",
       " x₃ - 2.718281828459045x₈\n",
       " x₄ - 148.4131591025766x₈\n",
       " x₅ - 20.085536923187668x₈\n",
       " x₆ - 2.718281828459045x₈\n",
       " x₇ - x₈\n",
       " -x₁ + 0.006737946999085467x₈\n",
       " -x₂ + 0.049787068367863944x₈\n",
       " -x₃ + 0.36787944117144233x₈\n",
       " -x₄ + 0.006737946999085467x₈\n",
       " -x₅ + 0.049787068367863944x₈\n",
       " -x₆ + 0.36787944117144233x₈\n",
       " -x₇ + x₈"
      ]
     },
     "execution_count": 45,
     "metadata": {},
     "output_type": "execute_result"
    }
   ],
   "source": [
    "Sol = vcat(cons, R)"
   ]
  },
  {
   "cell_type": "code",
   "execution_count": 46,
   "id": "71936934-a95f-4688-8760-04884a0d2283",
   "metadata": {},
   "outputs": [
    {
     "data": {
      "text/plain": [
       "17-element Vector{Any}:\n",
       " -x₁⁵x₂³x₃ + 2.515438670919167e30x₄⁵x₅³x₆\n",
       " 2.515438670919167e30x₁⁵x₂³x₃ - x₄⁵x₅³x₆\n",
       " x₁ - 148.4131591025766x₈\n",
       " x₂ - 20.085536923187668x₈\n",
       " x₃ - 2.718281828459045x₈\n",
       " x₄ - 148.4131591025766x₈\n",
       " x₅ - 20.085536923187668x₈\n",
       " x₆ - 2.718281828459045x₈\n",
       " x₇ - x₈\n",
       " -x₁ + 0.006737946999085467x₈\n",
       " -x₂ + 0.049787068367863944x₈\n",
       " -x₃ + 0.36787944117144233x₈\n",
       " -x₄ + 0.006737946999085467x₈\n",
       " -x₅ + 0.049787068367863944x₈\n",
       " -x₆ + 0.36787944117144233x₈\n",
       " -x₇ + x₈\n",
       " x₈"
      ]
     },
     "execution_count": 46,
     "metadata": {},
     "output_type": "execute_result"
    }
   ],
   "source": [
    "push!(Sol,var[nvars+1]) ## Add homogenization"
   ]
  },
  {
   "cell_type": "code",
   "execution_count": 47,
   "id": "b4b7cdfa-149f-4658-b0ed-04f6cf207793",
   "metadata": {},
   "outputs": [
    {
     "data": {
      "text/latex": [
       "$$ 0.22992465073215146x_{1} - 1.25x_{2} + 1.6989261427869031x_{3} + 0.22992465073215146x_{4} - 1.25x_{5} + 1.6989261427869031x_{6} - 1.3577015870381093x_{7} $$"
      ],
      "text/plain": [
       "0.22992465073215146x₁ - 1.25x₂ + 1.6989261427869031x₃ + 0.22992465073215146x₄ - 1.25x₅ + 1.6989261427869031x₆ - 1.3577015870381093x₇"
      ]
     },
     "execution_count": 47,
     "metadata": {},
     "output_type": "execute_result"
    }
   ],
   "source": [
    "f= sum(c.*var[1:nvars]) ## Signomial under transformation"
   ]
  },
  {
   "cell_type": "code",
   "execution_count": null,
   "id": "0f1f551a-77c5-4f54-a8cc-f0d58a50f6db",
   "metadata": {},
   "outputs": [],
   "source": []
  }
 ],
 "metadata": {
  "kernelspec": {
   "display_name": "Julia 1.7.2",
   "language": "julia",
   "name": "julia-1.7"
  },
  "language_info": {
   "file_extension": ".jl",
   "mimetype": "application/julia",
   "name": "julia",
   "version": "1.7.2"
  }
 },
 "nbformat": 4,
 "nbformat_minor": 5
}
