{
 "cells": [
  {
   "cell_type": "code",
   "execution_count": 1,
   "id": "a8422eec-1a36-4b2f-9a00-b9610c925e2e",
   "metadata": {},
   "outputs": [
    {
     "data": {
      "text/latex": [
       "$$ \\begin{aligned}\n",
       "\\text{feasibility}\\\\\n",
       "\\text{Subject to} \\quad & u_{1} + u_{7} + u_{10} + u_{13} = 3.0\\\\\n",
       " & u_{2} - u_{7} + u_{8} + u_{11} = 1.0\\\\\n",
       " & u_{3} + u_{9} - u_{10} + u_{12} = 1.0\\\\\n",
       " & u_{4} - u_{8} = -2.0\\\\\n",
       " & u_{5} - u_{9} - u_{11} - 4 u_{13} = -4.0\\\\\n",
       " & u_{6} - u_{12} = -2.0\\\\\n",
       " & u_{1} \\geq 0.0\\\\\n",
       " & u_{2} \\geq 0.0\\\\\n",
       " & u_{3} \\geq 0.0\\\\\n",
       " & u_{4} \\geq 0.0\\\\\n",
       " & u_{5} \\geq 0.0\\\\\n",
       " & u_{6} \\geq 0.0\\\\\n",
       " & u_{7} \\geq 0.0\\\\\n",
       " & u_{8} \\geq 0.0\\\\\n",
       " & u_{9} \\geq 0.0\\\\\n",
       " & u_{10} \\geq 0.0\\\\\n",
       " & u_{11} \\geq 0.0\\\\\n",
       " & u_{12} \\geq 0.0\\\\\n",
       " & u_{13} \\geq 0.0\\\\\n",
       "\\end{aligned} $$"
      ]
     },
     "metadata": {},
     "output_type": "display_data"
    },
    {
     "data": {
      "text/plain": [
       "4-element Vector{Polynomial{true, Int64}}:\n",
       " 1\n",
       " x₁ - x₂\n",
       " x₁ - x₃\n",
       " x₁² - 4x₂x₃"
      ]
     },
     "execution_count": 1,
     "metadata": {},
     "output_type": "execute_result"
    }
   ],
   "source": [
    "using DynamicPolynomials,LinearAlgebra\n",
    "using NBInclude\n",
    "\n",
    "\n",
    "using JuMP\n",
    "using MadNLP\n",
    "import HiGHS\n",
    "\n",
    "\n",
    "@nbinclude(\"Wang to Dickinson.ipynb\")\n",
    "@nbinclude(\"Methods.ipynb\")"
   ]
  },
  {
   "cell_type": "code",
   "execution_count": 2,
   "id": "35601bd4-30a1-4d7c-ba1b-12309ae55edc",
   "metadata": {},
   "outputs": [],
   "source": [
    "# Example Signomial"
   ]
  },
  {
   "cell_type": "code",
   "execution_count": 3,
   "id": "902ce3bc-a5f1-4f0b-8ba3-06471527b1b0",
   "metadata": {},
   "outputs": [
    {
     "data": {
      "text/plain": [
       "4-element Vector{Int64}:\n",
       "  1\n",
       " -1\n",
       "  1\n",
       "  1"
      ]
     },
     "execution_count": 3,
     "metadata": {},
     "output_type": "execute_result"
    }
   ],
   "source": [
    "c = [1,-1,-1]\n",
    "A=[3//2 0;0 1;0 -1]\n",
    "H=[1 0;-1 0;0 1;0 -1]\n",
    "d=[1,-1,1,1]\n"
   ]
  },
  {
   "cell_type": "code",
   "execution_count": 4,
   "id": "fb3c9b57-bddd-4411-aa96-22336b647446",
   "metadata": {},
   "outputs": [
    {
     "data": {
      "text/plain": [
       "(x₁ - x₂ - x₃, Any[-x₁² + 20.085536923187668x₄², 0.049787068367863944x₁² - x₄², -x₂ + 7.38905609893065x₃, 7.38905609893065x₂ - x₃, x₁ - 4.4816890703380645x₄, x₂ - 2.718281828459045x₄, x₃ - 2.718281828459045x₄, -x₁ + 4.4816890703380645x₄, -x₂ + 0.36787944117144233x₄, -x₃ + 0.36787944117144233x₄, x₄])"
      ]
     },
     "execution_count": 4,
     "metadata": {},
     "output_type": "execute_result"
    }
   ],
   "source": [
    "h,arrayOfPolynomials = getallConstraints(A,H,c,d)"
   ]
  },
  {
   "cell_type": "code",
   "execution_count": 5,
   "id": "3a539eed-28c5-4f58-a6be-0c4411e92a3a",
   "metadata": {},
   "outputs": [
    {
     "data": {
      "text/plain": [
       "11-element Vector{Int64}:\n",
       " 2\n",
       " 2\n",
       " 1\n",
       " 1\n",
       " 1\n",
       " 1\n",
       " 1\n",
       " 1\n",
       " 1\n",
       " 1\n",
       " 1"
      ]
     },
     "execution_count": 5,
     "metadata": {},
     "output_type": "execute_result"
    }
   ],
   "source": [
    "var = variables([arrayOfPolynomials...,h])\n",
    "[maxdegree(p) for p in arrayOfPolynomials]"
   ]
  },
  {
   "cell_type": "code",
   "execution_count": 13,
   "id": "33ffc12b-b7e3-474c-b9d3-259d7219ff92",
   "metadata": {},
   "outputs": [
    {
     "data": {
      "text/latex": [
       "$$ \\begin{aligned}\n",
       "\\text{feasibility}\\\\\n",
       "\\text{Subject to} \\quad & -u_{1} + 0.049787068367863944 u_{2} + u_{11} - u_{23} = 1.0\\\\\n",
       " & -u_{3} + 7.38905609893065 u_{7} + u_{12} + u_{15} - u_{24} - u_{27} = 0.0\\\\\n",
       " & 7.38905609893065 u_{3} - u_{7} + u_{13} + u_{19} - u_{25} - u_{31} = 0.0\\\\\n",
       " & -4.4816890703380645 u_{11} + u_{14} - 2.718281828459045 u_{15} - 2.718281828459045 u_{19} + 4.4816890703380645 u_{23} - u_{26} + 0.36787944117144233 u_{27} + 0.36787944117144233 u_{31} + u_{35} = 1.0\\\\\n",
       " & -u_{4} + 7.38905609893065 u_{8} + u_{16} - u_{28} = -1.0\\\\\n",
       " & 7.38905609893065 u_{4} - u_{5} - u_{8} + 7.38905609893065 u_{9} + u_{17} + u_{20} - u_{29} - u_{32} = -2.0\\\\\n",
       " & -u_{6} + 7.38905609893065 u_{10} - 4.4816890703380645 u_{12} - 2.718281828459045 u_{16} + u_{18} - 2.718281828459045 u_{20} + 4.4816890703380645 u_{24} + 0.36787944117144233 u_{28} - u_{30} + 0.36787944117144233 u_{32} + u_{36} = -1.0\\\\\n",
       " & 7.38905609893065 u_{5} - u_{9} + u_{21} - u_{33} = -1.0\\\\\n",
       " & 7.38905609893065 u_{6} - u_{10} - 4.4816890703380645 u_{13} - 2.718281828459045 u_{17} - 2.718281828459045 u_{21} + u_{22} + 4.4816890703380645 u_{25} + 0.36787944117144233 u_{29} + 0.36787944117144233 u_{33} - u_{34} + u_{37} = -1.0\\\\\n",
       " & 20.085536923187668 u_{1} - u_{2} - 4.4816890703380645 u_{14} - 2.718281828459045 u_{18} - 2.718281828459045 u_{22} + 4.4816890703380645 u_{26} + 0.36787944117144233 u_{30} + 0.36787944117144233 u_{34} + u_{38} = 0.0\\\\\n",
       " & u_{1} \\geq 0.0\\\\\n",
       " & u_{2} \\geq 0.0\\\\\n",
       " & u_{3} \\geq 0.0\\\\\n",
       " & u_{4} \\geq 0.0\\\\\n",
       " & u_{5} \\geq 0.0\\\\\n",
       " & u_{6} \\geq 0.0\\\\\n",
       " & u_{7} \\geq 0.0\\\\\n",
       " & u_{8} \\geq 0.0\\\\\n",
       " & u_{9} \\geq 0.0\\\\\n",
       " & u_{10} \\geq 0.0\\\\\n",
       " & u_{11} \\geq 0.0\\\\\n",
       " & u_{12} \\geq 0.0\\\\\n",
       " & u_{13} \\geq 0.0\\\\\n",
       " & u_{14} \\geq 0.0\\\\\n",
       " & u_{15} \\geq 0.0\\\\\n",
       " & u_{16} \\geq 0.0\\\\\n",
       " & u_{17} \\geq 0.0\\\\\n",
       " & u_{18} \\geq 0.0\\\\\n",
       " & u_{19} \\geq 0.0\\\\\n",
       " & u_{20} \\geq 0.0\\\\\n",
       " & u_{21} \\geq 0.0\\\\\n",
       " & u_{22} \\geq 0.0\\\\\n",
       " & u_{23} \\geq 0.0\\\\\n",
       " & u_{24} \\geq 0.0\\\\\n",
       " & u_{25} \\geq 0.0\\\\\n",
       " & u_{26} \\geq 0.0\\\\\n",
       " & u_{27} \\geq 0.0\\\\\n",
       " & u_{28} \\geq 0.0\\\\\n",
       " & u_{29} \\geq 0.0\\\\\n",
       " & u_{30} \\geq 0.0\\\\\n",
       " & u_{31} \\geq 0.0\\\\\n",
       " & u_{32} \\geq 0.0\\\\\n",
       " & u_{33} \\geq 0.0\\\\\n",
       " & u_{34} \\geq 0.0\\\\\n",
       " & u_{35} \\geq 0.0\\\\\n",
       " & u_{36} \\geq 0.0\\\\\n",
       " & u_{37} \\geq 0.0\\\\\n",
       " & u_{38} \\geq 0.0\\\\\n",
       "\\end{aligned} $$"
      ]
     },
     "metadata": {},
     "output_type": "display_data"
    }
   ],
   "source": [
    "poly=polynomial(monomials(var,1))^1*h\n",
    "LP,u,b,c,n = getLP(poly,arrayOfPolynomials,var)\n",
    "print(LP)"
   ]
  },
  {
   "cell_type": "code",
   "execution_count": 15,
   "id": "464aa081-8791-4f54-bdf4-64213459b5a9",
   "metadata": {},
   "outputs": [],
   "source": [
    "JuMP.optimize!(LP)\n",
    "# JuMP.has_values(LP)"
   ]
  },
  {
   "cell_type": "code",
   "execution_count": 23,
   "id": "adf0ca24-6ca8-49b0-9e7a-93bc644ca24e",
   "metadata": {},
   "outputs": [
    {
     "data": {
      "text/plain": [
       "10-element Vector{Int64}:\n",
       "  1\n",
       "  0\n",
       "  0\n",
       "  1\n",
       " -1\n",
       " -2\n",
       " -1\n",
       " -1\n",
       " -1\n",
       "  0"
      ]
     },
     "execution_count": 23,
     "metadata": {},
     "output_type": "execute_result"
    }
   ],
   "source": [
    "sol=JuMP.value.(u)\n",
    "b"
   ]
  },
  {
   "cell_type": "code",
   "execution_count": null,
   "id": "6a8b60d4-4da7-4f5c-ae84-5de73eeeba78",
   "metadata": {},
   "outputs": [],
   "source": [
    "walk=1\n",
    "c=[]\n",
    "solPoly=[]\n",
    "for (j,i) in enumerate(n)\n",
    "    coeff = view(sol,walk:walk+i-1)\n",
    "    println(coeff)\n",
    "#     base = monomials(x,maxdegree(e)-maxdegree(F[j]))\n",
    "#     push!(solPoly,polynomial(coeff,base))\n",
    "#     push!(c,coeff)\n",
    "#     walk+=i\n",
    "end\n",
    "# return solPoly"
   ]
  }
 ],
 "metadata": {
  "kernelspec": {
   "display_name": "Julia 1.7.2",
   "language": "julia",
   "name": "julia-1.7"
  },
  "language_info": {
   "file_extension": ".jl",
   "mimetype": "application/julia",
   "name": "julia",
   "version": "1.7.2"
  }
 },
 "nbformat": 4,
 "nbformat_minor": 5
}
