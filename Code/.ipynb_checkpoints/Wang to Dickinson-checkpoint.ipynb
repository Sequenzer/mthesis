{
 "cells": [
  {
   "cell_type": "code",
   "execution_count": 1,
   "id": "5118a089-792f-4b8e-8d34-222506c9ecb0",
   "metadata": {},
   "outputs": [],
   "source": [
    "using DynamicPolynomials,LinearAlgebra\n",
    "using NBInclude\n",
    "\n",
    "@nbinclude(\"MinMaxonSet.ipynb\")\n",
    "\n",
    "using JuMP\n",
    "using MadNLP\n",
    "import HiGHS"
   ]
  },
  {
   "cell_type": "markdown",
   "id": "d68d0344-f79c-4dd1-965b-91476ab490c8",
   "metadata": {},
   "source": [
    "##  Input\n",
    "- Matrix $H$ and vector $d$ so that $\\mathcal{X} = \\lbrace x \\in \\mathbb{R}^n | Ax=c \\rbrace$\n",
    "- Signomial defined by Matrix $A^{m \\times n}$ and coeffiecients $c \\in \\mathbb{R}^m$\n",
    "##  Example"
   ]
  },
  {
   "cell_type": "code",
   "execution_count": 2,
   "id": "f3a71e96-7159-4bf9-aa2e-2063afa02d1f",
   "metadata": {},
   "outputs": [
    {
     "data": {
      "text/plain": [
       "3×2 Matrix{Rational{Int64}}:\n",
       " 3//2   0//1\n",
       " 0//1   1//1\n",
       " 0//1  -1//1"
      ]
     },
     "execution_count": 2,
     "metadata": {},
     "output_type": "execute_result"
    }
   ],
   "source": [
    "c = [1,-1,-1]\n",
    "A=[3//2 0;0 1;0 -1]"
   ]
  },
  {
   "cell_type": "code",
   "execution_count": 3,
   "id": "e6924e05-d1d7-4d89-a8e4-6692c3f2fd8a",
   "metadata": {},
   "outputs": [
    {
     "data": {
      "text/plain": [
       "4-element Vector{Int64}:\n",
       "  1\n",
       " -1\n",
       "  1\n",
       "  1"
      ]
     },
     "execution_count": 3,
     "metadata": {},
     "output_type": "execute_result"
    }
   ],
   "source": [
    "H=[1 0;-1 0;0 1;0 -1]\n",
    "d=[1,-1,1,1]"
   ]
  },
  {
   "cell_type": "markdown",
   "id": "2ad09d7e-8e4f-4972-a259-2590f26b9b5b",
   "metadata": {},
   "source": [
    "At first we need to calculate the leftinverse of A"
   ]
  },
  {
   "cell_type": "code",
   "execution_count": 4,
   "id": "ad84450d-d537-4b78-be68-57489fbb949c",
   "metadata": {},
   "outputs": [
    {
     "data": {
      "text/plain": [
       "rpinv (generic function with 1 method)"
      ]
     },
     "execution_count": 4,
     "metadata": {},
     "output_type": "execute_result"
    }
   ],
   "source": [
    "function rpinv(A) ## rational leftinverse\n",
    "    rA = Rational.(A)\n",
    "    B = (transpose(rA)*rA)\\transpose(rA)\n",
    "    return B\n",
    "end"
   ]
  },
  {
   "cell_type": "code",
   "execution_count": 5,
   "id": "d0493f51-c969-4274-b52a-f887ba2aea5f",
   "metadata": {},
   "outputs": [
    {
     "data": {
      "text/plain": [
       "getSupport (generic function with 1 method)"
      ]
     },
     "execution_count": 5,
     "metadata": {},
     "output_type": "execute_result"
    }
   ],
   "source": [
    "function getSupport(B,d)\n",
    "    Supp=[]\n",
    "    nvars=size(B)[2]\n",
    "    # print(nvars)\n",
    "    for (i,row) in enumerate(eachrow(B))\n",
    "        P=[]\n",
    "        N=[]\n",
    "        denom=lcm(denominator.(row))\n",
    "        for (j,ele) in enumerate(row)\n",
    "            if ele >= 0\n",
    "                push!(P,(Int(ele*denom),j))\n",
    "            else\n",
    "                push!(N,(Int(-ele*denom),j))\n",
    "            end\n",
    "        end\n",
    "\n",
    "\n",
    "\n",
    "\n",
    "        pdegree=sum(Int[x[1] for x in P])\n",
    "        ndegree=sum(Int[x[1] for x in N])\n",
    "        if pdegree>ndegree\n",
    "            push!(N,(pdegree-ndegree,nvars+1))\n",
    "        elseif pdegree<ndegree\n",
    "            push!(P,(ndegree-pdegree,nvars+1))   \n",
    "        end\n",
    "        push!(Supp,(P,N,denom*d[i]))\n",
    "    end\n",
    "    return (Supp,nvars)\n",
    "end"
   ]
  },
  {
   "cell_type": "code",
   "execution_count": 6,
   "id": "5a86c3d9-0137-41ae-bc1c-8d00ced7c73b",
   "metadata": {},
   "outputs": [
    {
     "data": {
      "text/plain": [
       "getSASet (generic function with 1 method)"
      ]
     },
     "execution_count": 6,
     "metadata": {},
     "output_type": "execute_result"
    }
   ],
   "source": [
    "function getSASet(Supp,nvars)\n",
    "    F=[]\n",
    "    @polyvar x[1:nvars+1]\n",
    "    for ele in Supp\n",
    "        s=ele\n",
    "        P=s[1]\n",
    "        N=s[2]\n",
    "        dᵢ=s[3]\n",
    "        f=x[1]*0\n",
    "        ## Add positive part\n",
    "        p=x[1]*0+1\n",
    "        for pos in P\n",
    "            p=p*x[pos[2]]^pos[1]\n",
    "        end\n",
    "        f=f-p\n",
    "        ##Add negative part\n",
    "        p=x[1]*0+ℯ^dᵢ\n",
    "        for neg in N\n",
    "            p=p*x[neg[2]]^neg[1]\n",
    "        end\n",
    "        f=f+p\n",
    "        push!(F,f)\n",
    "    end\n",
    "    return (F,x)\n",
    "end"
   ]
  },
  {
   "cell_type": "code",
   "execution_count": 7,
   "id": "339534a4-c4a6-4c2c-ad88-b78642864c0e",
   "metadata": {},
   "outputs": [
    {
     "data": {
      "text/plain": [
       "SASbyMatrix (generic function with 1 method)"
      ]
     },
     "execution_count": 7,
     "metadata": {},
     "output_type": "execute_result"
    }
   ],
   "source": [
    "function SASbyMatrix(A,H,c,d)\n",
    "    ##ToDo Check Dimensions\n",
    "    L=rpinv(A)\n",
    "    B=H*L\n",
    "    Supp,nvars=getSupport(B,d)\n",
    "    # [println(u) for u in eachrow(Supp)]\n",
    "    return getSASet(Supp,nvars)\n",
    "end"
   ]
  },
  {
   "cell_type": "code",
   "execution_count": 8,
   "id": "9476d947-7dbc-4638-b856-485cf8447a54",
   "metadata": {},
   "outputs": [],
   "source": [
    "# Support ist of the Form: every Row is a constraint polynomials with to vectors positive part and negative Part + constant"
   ]
  },
  {
   "cell_type": "code",
   "execution_count": 9,
   "id": "17d8c637-7e03-4c44-82a0-8863f0f169fd",
   "metadata": {},
   "outputs": [
    {
     "data": {
      "text/plain": [
       "(Any[-x₁² + 20.085536923187668x₄², 0.049787068367863944x₁² - x₄², -x₂ + 7.38905609893065x₃, 7.38905609893065x₂ - x₃], PolyVar{true}[x₁, x₂, x₃, x₄])"
      ]
     },
     "execution_count": 9,
     "metadata": {},
     "output_type": "execute_result"
    }
   ],
   "source": [
    "SASbyMatrix(A,H,c,d)"
   ]
  },
  {
   "cell_type": "markdown",
   "id": "496cb8da-97ef-4ccf-b898-75e2e5ad000f",
   "metadata": {},
   "source": [
    "# Add Redundant Constraints"
   ]
  },
  {
   "cell_type": "code",
   "execution_count": 10,
   "id": "7ca1e749-80af-49e9-b1a8-dae0aa962b2c",
   "metadata": {},
   "outputs": [
    {
     "data": {
      "text/plain": [
       "getRedCons (generic function with 1 method)"
      ]
     },
     "execution_count": 10,
     "metadata": {},
     "output_type": "execute_result"
    }
   ],
   "source": [
    "function getRedCons(A,H,d,var)\n",
    "    R=[]\n",
    "    # Start with upper bounds\n",
    "    C = findMaxOnSet(A,H,d)\n",
    "    nvars = size(C)[1] #Number of  Variables\n",
    "    for i in 1:size(C)[1]\n",
    "        fun = var[i]-ℯ^C[i][1]*var[nvars+1]\n",
    "        push!(R,fun)\n",
    "    end\n",
    "    \n",
    "    # Add lower bounds\n",
    "     D = findMinOnSet(A,H,d)\n",
    "    for i in 1:size(D)[1]\n",
    "        fun = ℯ^D[i][1]*var[nvars+1]-var[i]\n",
    "        push!(R,fun)\n",
    "    end\n",
    "    return (R,nvars)\n",
    "end"
   ]
  },
  {
   "cell_type": "code",
   "execution_count": 13,
   "id": "c6606e52-4591-40ee-81ea-65d26649d2b5",
   "metadata": {},
   "outputs": [
    {
     "data": {
      "text/plain": [
       "4-element Vector{PolyVar{true}}:\n",
       " x₁\n",
       " x₂\n",
       " x₃\n",
       " x₄"
      ]
     },
     "execution_count": 13,
     "metadata": {},
     "output_type": "execute_result"
    }
   ],
   "source": [
    "function getallConstraints(A,H,c,d)\n",
    "    SAS,var = SASbyMatrix(A,H,c,d)\n",
    "    RC,nvars = getRedCons(A,H,d,var)\n",
    "    Sol = vcat(SAS, RC)\n",
    "    # Add Homogenization Constraint\n",
    "    push!(Sol,var[nvars+1])\n",
    "    # Objective Function\n",
    "    f= sum(c.*var[1:nvars])\n",
    "    return (f,Vector(Sol))\n",
    "    \n",
    "end\n",
    "f,Sol = getallConstraints(A,H,c,d)\n",
    "variables([Sol...,f])"
   ]
  },
  {
   "cell_type": "code",
   "execution_count": 12,
   "id": "727f0a7e-9890-409f-989d-c61c23f7e825",
   "metadata": {},
   "outputs": [
    {
     "data": {
      "text/latex": [
       "$$ x_{1} - x_{2} - x_{3} $$"
      ],
      "text/plain": [
       "x₁ - x₂ - x₃"
      ]
     },
     "execution_count": 12,
     "metadata": {},
     "output_type": "execute_result"
    }
   ],
   "source": [
    "f"
   ]
  },
  {
   "cell_type": "code",
   "execution_count": null,
   "id": "fd225bb5-f419-4adf-ab6f-a16d2143eef6",
   "metadata": {},
   "outputs": [],
   "source": []
  }
 ],
 "metadata": {
  "kernelspec": {
   "display_name": "Julia 1.7.2",
   "language": "julia",
   "name": "julia-1.7"
  },
  "language_info": {
   "file_extension": ".jl",
   "mimetype": "application/julia",
   "name": "julia",
   "version": "1.7.2"
  }
 },
 "nbformat": 4,
 "nbformat_minor": 5
}
