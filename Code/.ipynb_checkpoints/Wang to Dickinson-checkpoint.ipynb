{
 "cells": [
  {
   "cell_type": "code",
   "execution_count": 1,
   "id": "5118a089-792f-4b8e-8d34-222506c9ecb0",
   "metadata": {},
   "outputs": [],
   "source": [
    "using LinearAlgebra"
   ]
  },
  {
   "cell_type": "code",
   "execution_count": 2,
   "id": "97fbfd32-530d-4b15-a8d8-cff3e60e8e91",
   "metadata": {},
   "outputs": [
    {
     "data": {
      "text/plain": [
       "3×3 Matrix{Int64}:\n",
       " 1  2  3\n",
       " 4  1  6\n",
       " 7  8  1"
      ]
     },
     "execution_count": 2,
     "metadata": {},
     "output_type": "execute_result"
    }
   ],
   "source": [
    "A = [1 2 3; 4 1 6; 7 8 1]"
   ]
  },
  {
   "cell_type": "code",
   "execution_count": 10,
   "id": "b89adce3-354c-4f76-85fe-463d6b8de782",
   "metadata": {},
   "outputs": [
    {
     "ename": "LoadError",
     "evalue": "MethodError: no method matching randn(::Random.TaskLocalRNG, ::Type{Int32})\n\u001b[0mClosest candidates are:\n\u001b[0m  randn(::Random.AbstractRNG, ::Type{T}, \u001b[91m::Tuple{Vararg{Int64, N}} where N\u001b[39m) where T at C:\\Users\\Bfhe\\AppData\\Local\\Programs\\Julia-1.7.2\\share\\julia\\stdlib\\v1.7\\Random\\src\\normal.jl:235\n\u001b[0m  randn(::Random.AbstractRNG, ::Type{T}, \u001b[91m::Integer\u001b[39m, \u001b[91m::Integer...\u001b[39m) where T at C:\\Users\\Bfhe\\AppData\\Local\\Programs\\Julia-1.7.2\\share\\julia\\stdlib\\v1.7\\Random\\src\\normal.jl:238\n\u001b[0m  randn(::Random.AbstractRNG) at C:\\Users\\Bfhe\\AppData\\Local\\Programs\\Julia-1.7.2\\share\\julia\\stdlib\\v1.7\\Random\\src\\normal.jl:38\n\u001b[0m  ...",
     "output_type": "error",
     "traceback": [
      "MethodError: no method matching randn(::Random.TaskLocalRNG, ::Type{Int32})\n\u001b[0mClosest candidates are:\n\u001b[0m  randn(::Random.AbstractRNG, ::Type{T}, \u001b[91m::Tuple{Vararg{Int64, N}} where N\u001b[39m) where T at C:\\Users\\Bfhe\\AppData\\Local\\Programs\\Julia-1.7.2\\share\\julia\\stdlib\\v1.7\\Random\\src\\normal.jl:235\n\u001b[0m  randn(::Random.AbstractRNG, ::Type{T}, \u001b[91m::Integer\u001b[39m, \u001b[91m::Integer...\u001b[39m) where T at C:\\Users\\Bfhe\\AppData\\Local\\Programs\\Julia-1.7.2\\share\\julia\\stdlib\\v1.7\\Random\\src\\normal.jl:238\n\u001b[0m  randn(::Random.AbstractRNG) at C:\\Users\\Bfhe\\AppData\\Local\\Programs\\Julia-1.7.2\\share\\julia\\stdlib\\v1.7\\Random\\src\\normal.jl:38\n\u001b[0m  ...",
      "",
      "Stacktrace:",
      " [1] randn!",
      "   @ C:\\Users\\Bfhe\\AppData\\Local\\Programs\\Julia-1.7.2\\share\\julia\\stdlib\\v1.7\\Random\\src\\normal.jl:196 [inlined]",
      " [2] randn",
      "   @ C:\\Users\\Bfhe\\AppData\\Local\\Programs\\Julia-1.7.2\\share\\julia\\stdlib\\v1.7\\Random\\src\\normal.jl:235 [inlined]",
      " [3] randn(#unused#::Type{Int32}, dims::Tuple{Int64, Int64})",
      "   @ Random C:\\Users\\Bfhe\\AppData\\Local\\Programs\\Julia-1.7.2\\share\\julia\\stdlib\\v1.7\\Random\\src\\normal.jl:239",
      " [4] top-level scope",
      "   @ In[10]:1",
      " [5] eval",
      "   @ .\\boot.jl:373 [inlined]",
      " [6] include_string(mapexpr::typeof(REPL.softscope), mod::Module, code::String, filename::String)",
      "   @ Base .\\loading.jl:1196"
     ]
    }
   ],
   "source": [
    "randn( Float64,(2,3))"
   ]
  },
  {
   "cell_type": "code",
   "execution_count": null,
   "id": "b3258f50-7108-4eaf-b15d-7a89dbd8f4d2",
   "metadata": {},
   "outputs": [],
   "source": []
  }
 ],
 "metadata": {
  "kernelspec": {
   "display_name": "Julia 1.7.2",
   "language": "julia",
   "name": "julia-1.7"
  },
  "language_info": {
   "file_extension": ".jl",
   "mimetype": "application/julia",
   "name": "julia",
   "version": "1.7.2"
  }
 },
 "nbformat": 4,
 "nbformat_minor": 5
}
