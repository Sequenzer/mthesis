{
 "cells": [
  {
   "cell_type": "code",
   "execution_count": 1,
   "id": "5178be53-c059-41f5-9577-c4b52b60e2ef",
   "metadata": {},
   "outputs": [],
   "source": [
    "using DynamicPolynomials,LinearAlgebra"
   ]
  },
  {
   "cell_type": "code",
   "execution_count": 2,
   "id": "79548d28-fc3e-4365-bd4e-98f2fabff190",
   "metadata": {},
   "outputs": [
    {
     "data": {
      "text/latex": [
       "$$ 3x_{1} - 2x_{2} - 2x_{3} $$"
      ],
      "text/plain": [
       "3x₁ - 2x₂ - 2x₃"
      ]
     },
     "execution_count": 2,
     "metadata": {},
     "output_type": "execute_result"
    }
   ],
   "source": [
    "@polyvar x[1:3]\n",
    "h = 3x[1] - 2x[2] - 2x[3]"
   ]
  },
  {
   "cell_type": "code",
   "execution_count": 3,
   "id": "6e1f2e9d-1fad-4c87-8aeb-fd7ae357da6f",
   "metadata": {},
   "outputs": [
    {
     "data": {
      "text/latex": [
       "$$ 3x_{1}^{2} + x_{1}x_{2} + x_{1}x_{3} - 2x_{2}^{2} - 4x_{2}x_{3} - 2x_{3}^{2} $$"
      ],
      "text/plain": [
       "3x₁² + x₁x₂ + x₁x₃ - 2x₂² - 4x₂x₃ - 2x₃²"
      ]
     },
     "execution_count": 3,
     "metadata": {},
     "output_type": "execute_result"
    }
   ],
   "source": [
    "## Create Scale Polynomial\n",
    "e=0\n",
    "for i in 1:size(x)[1]\n",
    "    e+=x[i]\n",
    "end\n",
    "scale=e*h"
   ]
  },
  {
   "cell_type": "code",
   "execution_count": 4,
   "id": "0af03ca2-7ebe-44c6-a7c4-aacc2a948c23",
   "metadata": {},
   "outputs": [
    {
     "data": {
      "text/latex": [
       "$$ 1 $$"
      ],
      "text/plain": [
       "1"
      ]
     },
     "execution_count": 4,
     "metadata": {},
     "output_type": "execute_result"
    }
   ],
   "source": [
    "f1 = 1 + 0*x[1]\n",
    "f2 = x[1]-x[2]\n",
    "f3 = x[1]-x[3]\n",
    "f4 = x[1]^2 - 4x[2]x[3]\n",
    "f1"
   ]
  },
  {
   "cell_type": "code",
   "execution_count": 5,
   "id": "fac00424-f0c2-499e-81e4-2fcf1c5e5db1",
   "metadata": {},
   "outputs": [
    {
     "ename": "LoadError",
     "evalue": "MethodError: no method matching nterms(::MonomialVector{true})\n\u001b[0mClosest candidates are:\n\u001b[0m  nterms(\u001b[91m::AbstractTermLike\u001b[39m) at C:\\Users\\Bfhe\\.julia\\packages\\MultivariatePolynomials\\1bIGc\\src\\polynomial.jl:154\n\u001b[0m  nterms(\u001b[91m::AbstractPolynomialLike\u001b[39m) at C:\\Users\\Bfhe\\.julia\\packages\\MultivariatePolynomials\\1bIGc\\src\\polynomial.jl:155",
     "output_type": "error",
     "traceback": [
      "MethodError: no method matching nterms(::MonomialVector{true})\n\u001b[0mClosest candidates are:\n\u001b[0m  nterms(\u001b[91m::AbstractTermLike\u001b[39m) at C:\\Users\\Bfhe\\.julia\\packages\\MultivariatePolynomials\\1bIGc\\src\\polynomial.jl:154\n\u001b[0m  nterms(\u001b[91m::AbstractPolynomialLike\u001b[39m) at C:\\Users\\Bfhe\\.julia\\packages\\MultivariatePolynomials\\1bIGc\\src\\polynomial.jl:155",
      "",
      "Stacktrace:",
      " [1] top-level scope",
      "   @ In[5]:3",
      " [2] eval",
      "   @ .\\boot.jl:373 [inlined]",
      " [3] include_string(mapexpr::typeof(REPL.softscope), mod::Module, code::String, filename::String)",
      "   @ Base .\\loading.jl:1196"
     ]
    }
   ],
   "source": [
    "d = maxdegree(scale)\n",
    "base=monomials(x,d)"
   ]
  },
  {
   "cell_type": "code",
   "execution_count": 6,
   "id": "66b8c7f6-0718-4125-89a9-5d685dfd1d8c",
   "metadata": {},
   "outputs": [
    {
     "data": {
      "text/plain": [
       "6-element Vector{Int64}:\n",
       "  3\n",
       "  1\n",
       "  1\n",
       " -2\n",
       " -4\n",
       " -2"
      ]
     },
     "execution_count": 6,
     "metadata": {},
     "output_type": "execute_result"
    }
   ],
   "source": [
    "C=coefficients(scale,monomials(x,d))"
   ]
  },
  {
   "cell_type": "code",
   "execution_count": 7,
   "id": "553994ee-dc38-43d4-9e35-61f131c9c86f",
   "metadata": {},
   "outputs": [
    {
     "data": {
      "text/plain": [
       "6-element Vector{Int64}:\n",
       "  1\n",
       "  0\n",
       "  1\n",
       " -1\n",
       " -1\n",
       "  0"
      ]
     },
     "execution_count": 7,
     "metadata": {},
     "output_type": "execute_result"
    }
   ],
   "source": [
    "d2= d - maxdegree(f2)\n",
    "base=monomials(x,d2)\n",
    "basepoly=polynomial(base)\n",
    "basepoly*f2\n",
    "c2=coefficients(basepoly*f2,monomials(x,d))"
   ]
  },
  {
   "cell_type": "code",
   "execution_count": 8,
   "id": "93f8e091-a6af-40d8-b9c1-dc17450f9f1c",
   "metadata": {},
   "outputs": [
    {
     "data": {
      "text/latex": [
       "$$ x_{1}^{2} + x_{1}x_{3} - x_{2}^{2} - x_{2}x_{3} $$"
      ],
      "text/plain": [
       "x₁² + x₁x₃ - x₂² - x₂x₃"
      ]
     },
     "execution_count": 8,
     "metadata": {},
     "output_type": "execute_result"
    }
   ],
   "source": [
    "basepoly*f2"
   ]
  },
  {
   "cell_type": "code",
   "execution_count": 9,
   "id": "ccd0028e-c865-4075-b70b-7d4a0a6a6637",
   "metadata": {},
   "outputs": [
    {
     "data": {
      "text/plain": [
       "6-element Vector{Int64}:\n",
       "  1\n",
       "  1\n",
       "  0\n",
       "  0\n",
       " -1\n",
       " -1"
      ]
     },
     "execution_count": 9,
     "metadata": {},
     "output_type": "execute_result"
    }
   ],
   "source": [
    "d3= d - maxdegree(f3)\n",
    "base=monomials(x,d3)\n",
    "basepoly=polynomial(base)\n",
    "basepoly*f3\n",
    "c3=coefficients(basepoly*f3,monomials(x,d))"
   ]
  },
  {
   "cell_type": "code",
   "execution_count": 10,
   "id": "35fe3cca-0c78-4c30-9878-f96b0a34c294",
   "metadata": {},
   "outputs": [
    {
     "data": {
      "text/plain": [
       "6-element Vector{Int64}:\n",
       "  1\n",
       "  0\n",
       "  0\n",
       "  0\n",
       " -4\n",
       "  0"
      ]
     },
     "execution_count": 10,
     "metadata": {},
     "output_type": "execute_result"
    }
   ],
   "source": [
    "d4= d - maxdegree(f4)\n",
    "base=monomials(x,d4)\n",
    "basepoly=polynomial(base)\n",
    "basepoly*f4\n",
    "c4=coefficients(basepoly*f4,monomials(x,d))"
   ]
  },
  {
   "cell_type": "code",
   "execution_count": 11,
   "id": "4eb2f2e0-b2ab-4a28-9edb-bcaff604b593",
   "metadata": {},
   "outputs": [
    {
     "data": {
      "text/plain": [
       "getCoeffs (generic function with 1 method)"
      ]
     },
     "execution_count": 11,
     "metadata": {},
     "output_type": "execute_result"
    }
   ],
   "source": [
    "function getCoeffs(vec)\n",
    "    alph = []\n",
    "    for a in C ./ vec\n",
    "        if (a>0 && a!=Inf)\n",
    "            push!(alph,a)\n",
    "        else\n",
    "            push!(alph,0)\n",
    "        end\n",
    "    end\n",
    "    return alph\n",
    "end"
   ]
  },
  {
   "cell_type": "code",
   "execution_count": 12,
   "id": "9aca2ef8-2ea2-4ea1-bdce-872033d867dd",
   "metadata": {},
   "outputs": [
    {
     "data": {
      "text/plain": [
       "6-element Vector{Real}:\n",
       "  0.0\n",
       "  1\n",
       "  0.0\n",
       "  0.0\n",
       "  0.0\n",
       " -2"
      ]
     },
     "execution_count": 12,
     "metadata": {},
     "output_type": "execute_result"
    }
   ],
   "source": [
    "a2=getCoeffs(c2)\n",
    "C = C -a2.*c2\n",
    "convert(Vector{Int64},C)"
   ]
  },
  {
   "cell_type": "code",
   "execution_count": 13,
   "id": "af9fe959-c832-48d2-933e-ee4ee38d23ce",
   "metadata": {},
   "outputs": [
    {
     "data": {
      "text/plain": [
       "6-element Vector{Real}:\n",
       " 0.0\n",
       " 0.0\n",
       " 0.0\n",
       " 0.0\n",
       " 0.0\n",
       " 0.0"
      ]
     },
     "execution_count": 13,
     "metadata": {},
     "output_type": "execute_result"
    }
   ],
   "source": [
    "a3=getCoeffs(c3)\n",
    "C = C -a3.*c3\n",
    "convert(Vector{Int64},C)"
   ]
  },
  {
   "cell_type": "code",
   "execution_count": 14,
   "id": "1d428a4e-479f-4a4a-b1bb-c25db985744f",
   "metadata": {},
   "outputs": [
    {
     "data": {
      "text/latex": [
       "$$ 3.0x_{1}^{2} + x_{1}x_{3} + 2.0x_{2}^{2} + 4.0x_{2}x_{3} $$"
      ],
      "text/plain": [
       "3.0x₁² + x₁x₃ + 2.0x₂² + 4.0x₂x₃"
      ]
     },
     "execution_count": 14,
     "metadata": {},
     "output_type": "execute_result"
    }
   ],
   "source": [
    "h2 = polynomial(a2,monomials(x,d))"
   ]
  },
  {
   "cell_type": "code",
   "execution_count": 15,
   "id": "ecbf24bb-fd52-48cb-a706-6260c054e1d8",
   "metadata": {},
   "outputs": [
    {
     "data": {
      "text/latex": [
       "$$ x_{1}x_{2} + 2.0x_{3}^{2} $$"
      ],
      "text/plain": [
       "x₁x₂ + 2.0x₃²"
      ]
     },
     "execution_count": 15,
     "metadata": {},
     "output_type": "execute_result"
    }
   ],
   "source": [
    "h3 = polynomial(a3,monomials(x,d))"
   ]
  },
  {
   "cell_type": "code",
   "execution_count": 17,
   "id": "1318edc4-f38e-4492-808f-76af393dd725",
   "metadata": {},
   "outputs": [
    {
     "ename": "LoadError",
     "evalue": "MethodError: no method matching zero(::Type{Any})\n\u001b[0mClosest candidates are:\n\u001b[0m  zero(::Type{Union{Missing, T}}) where T at C:\\Users\\Bfhe\\AppData\\Local\\Programs\\Julia-1.7.2\\share\\julia\\base\\missing.jl:105\n\u001b[0m  zero(\u001b[91m::Union{Type{P}, P}\u001b[39m) where P<:Dates.Period at C:\\Users\\Bfhe\\AppData\\Local\\Programs\\Julia-1.7.2\\share\\julia\\stdlib\\v1.7\\Dates\\src\\periods.jl:53\n\u001b[0m  zero(\u001b[91m::T\u001b[39m) where T<:Dates.TimeType at C:\\Users\\Bfhe\\AppData\\Local\\Programs\\Julia-1.7.2\\share\\julia\\stdlib\\v1.7\\Dates\\src\\types.jl:450\n\u001b[0m  ...",
     "output_type": "error",
     "traceback": [
      "MethodError: no method matching zero(::Type{Any})\n\u001b[0mClosest candidates are:\n\u001b[0m  zero(::Type{Union{Missing, T}}) where T at C:\\Users\\Bfhe\\AppData\\Local\\Programs\\Julia-1.7.2\\share\\julia\\base\\missing.jl:105\n\u001b[0m  zero(\u001b[91m::Union{Type{P}, P}\u001b[39m) where P<:Dates.Period at C:\\Users\\Bfhe\\AppData\\Local\\Programs\\Julia-1.7.2\\share\\julia\\stdlib\\v1.7\\Dates\\src\\periods.jl:53\n\u001b[0m  zero(\u001b[91m::T\u001b[39m) where T<:Dates.TimeType at C:\\Users\\Bfhe\\AppData\\Local\\Programs\\Julia-1.7.2\\share\\julia\\stdlib\\v1.7\\Dates\\src\\types.jl:450\n\u001b[0m  ...",
      "",
      "Stacktrace:",
      " [1] zero(#unused#::Type{Any})",
      "   @ Base .\\missing.jl:106",
      " [2] promote_operation_fallback(op::typeof(+), #unused#::Type{Any}, #unused#::Type{Any})",
      "   @ MutableArithmetics C:\\Users\\Bfhe\\.julia\\packages\\MutableArithmetics\\L8iac\\src\\interface.jl:43",
      " [3] promote_operation(::typeof(+), ::Type, ::Type)",
      "   @ MutableArithmetics C:\\Users\\Bfhe\\.julia\\packages\\MutableArithmetics\\L8iac\\src\\interface.jl:105",
      " [4] plusorminus(p::Polynomial{true, Any}, q::Polynomial{true, Any}, op::Function)",
      "   @ DynamicPolynomials C:\\Users\\Bfhe\\.julia\\packages\\DynamicPolynomials\\juS7t\\src\\operators.jl:49",
      " [5] +(x::Polynomial{true, Any}, y::Polynomial{true, Any})",
      "   @ DynamicPolynomials C:\\Users\\Bfhe\\.julia\\packages\\DynamicPolynomials\\juS7t\\src\\operators.jl:130",
      " [6] top-level scope",
      "   @ In[17]:1",
      " [7] eval",
      "   @ .\\boot.jl:373 [inlined]",
      " [8] include_string(mapexpr::typeof(REPL.softscope), mod::Module, code::String, filename::String)",
      "   @ Base .\\loading.jl:1196"
     ]
    }
   ],
   "source": [
    "h2+h3"
   ]
  },
  {
   "cell_type": "code",
   "execution_count": null,
   "id": "1f12852b-27b5-4d69-9362-8b73c2741c27",
   "metadata": {},
   "outputs": [],
   "source": []
  }
 ],
 "metadata": {
  "kernelspec": {
   "display_name": "Julia 1.7.2",
   "language": "julia",
   "name": "julia-1.7"
  },
  "language_info": {
   "file_extension": ".jl",
   "mimetype": "application/julia",
   "name": "julia",
   "version": "1.7.2"
  }
 },
 "nbformat": 4,
 "nbformat_minor": 5
}
