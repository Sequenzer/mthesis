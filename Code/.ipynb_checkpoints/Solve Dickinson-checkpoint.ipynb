{
 "cells": [
  {
   "cell_type": "markdown",
   "id": "dc860251-9ae7-45ac-b869-2e4afc8393f3",
   "metadata": {},
   "source": [
    "# Construction of a Linear program for a given degree\n",
    "Equation to Solve\n",
    "$$\\ \\vert x \\vert_1^r \\cdot f_0(x) = \\sum_i^n f_i(x)g_i(x)$$\n",
    "we use the following packages\n",
    "- Dynamic Polynomails: for multivariate Polynomials\n",
    "- LinearAlgebra: for Linear Algebra\n",
    "- JuMP: Linear Programming\n",
    "- HiGHS: a solver for linear programming"
   ]
  },
  {
   "cell_type": "code",
   "execution_count": null,
   "id": "fff83166-63b1-4a44-bac1-a94e0348700e",
   "metadata": {},
   "outputs": [],
   "source": [
    "using DynamicPolynomials,LinearAlgebra\n",
    "using JuMP\n",
    "import HiGHS"
   ]
  },
  {
   "cell_type": "markdown",
   "id": "ccf1fa3a-c304-4a43-a25d-0dcecdf41b0a",
   "metadata": {},
   "source": [
    "## Step by Step Instruction\n",
    "As Input we need the following:\n",
    "- $r\\in \\mathbb{N}$\n",
    "- An array of homogenous polynomials $F$ \n",
    "\n",
    "At first we create a Example to explain its steps via this example"
   ]
  },
  {
   "cell_type": "code",
   "execution_count": 8,
   "id": "811996c9-ad2c-4e9f-a18f-f9239ebd1350",
   "metadata": {},
   "outputs": [
    {
     "data": {
      "text/plain": [
       "(PolyVar{true}[x₁, x₂, x₃],)"
      ]
     },
     "execution_count": 8,
     "metadata": {},
     "output_type": "execute_result"
    }
   ],
   "source": [
    "@polyvar x[1:3] ## gives us 3 Variables for polynomial construction"
   ]
  },
  {
   "cell_type": "markdown",
   "id": "5d3c9ab6-5b78-423e-b9fd-7beadd6db0e5",
   "metadata": {},
   "source": [
    "Now we can create a bunch of polynomials in $\\mathbb R[x_1,x_2,x_3]$"
   ]
  },
  {
   "cell_type": "code",
   "execution_count": 16,
   "id": "dc656fbd-7fd6-407c-9a9b-4e2e23998242",
   "metadata": {},
   "outputs": [
    {
     "data": {
      "text/latex": [
       "$$ x_{1}^{2} - 4x_{2}x_{3} $$"
      ],
      "text/plain": [
       "x₁² - 4x₂x₃"
      ]
     },
     "execution_count": 16,
     "metadata": {},
     "output_type": "execute_result"
    }
   ],
   "source": [
    "f₀ = 3x[1] - 2x[2] - 2x[3]\n",
    "f₁ = 1 + 0*x[1]\n",
    "f₂ = x[1]-x[2]\n",
    "f₃ = x[1]-x[3]\n",
    "f₄ = x[1]^2 - 4x[2]x[3]"
   ]
  },
  {
   "cell_type": "markdown",
   "id": "8874c1e6-e32d-44c2-9457-0f9e610b77f7",
   "metadata": {},
   "source": [
    "Which means we can create our Inputs "
   ]
  },
  {
   "cell_type": "code",
   "execution_count": 17,
   "id": "3ae0aad7-d480-4e16-b2b6-4ff1f53c880f",
   "metadata": {},
   "outputs": [
    {
     "data": {
      "text/plain": [
       "5-element Vector{Polynomial{true, Int64}}:\n",
       " 3x₁ - 2x₂ - 2x₃\n",
       " 1\n",
       " x₁ - x₂\n",
       " x₁ - x₃\n",
       " x₁² - 4x₂x₃"
      ]
     },
     "execution_count": 17,
     "metadata": {},
     "output_type": "execute_result"
    }
   ],
   "source": [
    "r=1\n",
    "F=[f₀,f₁,f₂,f₃,f₄]"
   ]
  },
  {
   "cell_type": "markdown",
   "id": "54076fd0-1e0e-4dbb-bf3b-192e126364e3",
   "metadata": {},
   "source": [
    "We first calcualte the coefficients $l_\\alpha$ on the Left site of the equation "
   ]
  },
  {
   "cell_type": "code",
   "execution_count": 28,
   "id": "7712412e-14cc-4655-b7b4-c8d9160ea3dc",
   "metadata": {},
   "outputs": [
    {
     "data": {
      "text/plain": [
       "3-element MonomialVector{true}:\n",
       " x₁\n",
       " x₂\n",
       " x₃"
      ]
     },
     "execution_count": 28,
     "metadata": {},
     "output_type": "execute_result"
    }
   ],
   "source": [
    "base = monomials(x,1) ## Every possible monomial of degree 1"
   ]
  },
  {
   "cell_type": "code",
   "execution_count": 30,
   "id": "b0374241-d91a-4565-b47e-62d709450751",
   "metadata": {},
   "outputs": [
    {
     "data": {
      "text/latex": [
       "$$ x_{1} + x_{2} + x_{3} $$"
      ],
      "text/plain": [
       "x₁ + x₂ + x₃"
      ]
     },
     "execution_count": 30,
     "metadata": {},
     "output_type": "execute_result"
    }
   ],
   "source": [
    "polynomial(base) ## This gives us a easy way to calculate the left site"
   ]
  },
  {
   "cell_type": "code",
   "execution_count": 31,
   "id": "0ce36a7f-a26f-4b82-ac13-e53c9ebca2f9",
   "metadata": {},
   "outputs": [
    {
     "data": {
      "text/latex": [
       "$$ 3x_{1}^{2} + x_{1}x_{2} + x_{1}x_{3} - 2x_{2}^{2} - 4x_{2}x_{3} - 2x_{3}^{2} $$"
      ],
      "text/plain": [
       "3x₁² + x₁x₂ + x₁x₃ - 2x₂² - 4x₂x₃ - 2x₃²"
      ]
     },
     "execution_count": 31,
     "metadata": {},
     "output_type": "execute_result"
    }
   ],
   "source": [
    "left = polynomial(base)^r*f₀ ##The left site of the Equation"
   ]
  },
  {
   "cell_type": "markdown",
   "id": "bcace97c-2b53-4042-922d-758d71f26226",
   "metadata": {},
   "source": [
    "Now we need to only extract the coefficients"
   ]
  },
  {
   "cell_type": "code",
   "execution_count": 32,
   "id": "95ac5224-dd4a-4a00-b9f4-f109111cbfa5",
   "metadata": {},
   "outputs": [
    {
     "data": {
      "text/plain": [
       "6-element Vector{Int64}:\n",
       "  3\n",
       "  1\n",
       "  1\n",
       " -2\n",
       " -4\n",
       " -2"
      ]
     },
     "execution_count": 32,
     "metadata": {},
     "output_type": "execute_result"
    }
   ],
   "source": [
    "l = coefficients(left,monomials(x,2)) ##monomials(x,2) calculates the monomials base for  "
   ]
  },
  {
   "cell_type": "code",
   "execution_count": null,
   "id": "36d25e71-300f-4d6b-9699-ac83b349a1f4",
   "metadata": {},
   "outputs": [],
   "source": []
  },
  {
   "cell_type": "code",
   "execution_count": null,
   "id": "733cb0e2-a916-4bfe-aab2-77efc1ae8e33",
   "metadata": {},
   "outputs": [],
   "source": []
  },
  {
   "cell_type": "code",
   "execution_count": null,
   "id": "a6e283b4-789f-4283-8fe7-ed08d01c9e80",
   "metadata": {},
   "outputs": [],
   "source": []
  },
  {
   "cell_type": "code",
   "execution_count": null,
   "id": "636c0d2e-cae5-44db-a13c-804711b7f15b",
   "metadata": {},
   "outputs": [],
   "source": []
  },
  {
   "cell_type": "code",
   "execution_count": null,
   "id": "85e5d428-0079-45b0-abbd-220ce3568db8",
   "metadata": {},
   "outputs": [],
   "source": []
  },
  {
   "cell_type": "code",
   "execution_count": null,
   "id": "38cea658-168e-433d-82dd-2099ee57dbf9",
   "metadata": {},
   "outputs": [],
   "source": []
  },
  {
   "cell_type": "code",
   "execution_count": 1,
   "id": "5178be53-c059-41f5-9577-c4b52b60e2ef",
   "metadata": {},
   "outputs": [],
   "source": [
    "function getLP(poly,arrayOfPolynomials,var)\n",
    "    d = maxdegree(poly)\n",
    "    base=monomials(var,d)\n",
    "    b=coefficients(poly,base)\n",
    "    c=[]\n",
    "    nVars=[]\n",
    "    for f in arrayOfPolynomials\n",
    "        deg=d - maxdegree(f)\n",
    "        push!(nVars,size(monomials(var,deg))[1])\n",
    "        l = []\n",
    "        for g in monomials(var,deg)\n",
    "            basepoly=g*f\n",
    "            push!(l,coefficients(basepoly,monomials(var,d)))\n",
    "        end\n",
    "        l=transpose(reduce(vcat,transpose.(l)))\n",
    "        push!(c,l)\n",
    "    end\n",
    "    c=transpose(reduce(vcat,transpose.(c)))\n",
    "    \n",
    "    #Create Linear Program\n",
    "    m = size(b,1) #Number of Monomials in Polynom to Match\n",
    "    LP = Model(HiGHS.Optimizer) # Initialize Model\n",
    "    n=size(c,2) # Number of Variables\n",
    "    @variable(LP, u[1:n]>=0)\n",
    "    for i in 1:m\n",
    "        @constraint(LP, sum(dot(u,c[i,:])) == b[i])\n",
    "    end\n",
    "    print(LP)\n",
    "    return (LP,u,b,c,nVars)\n",
    "end"
   ]
  },
  {
   "cell_type": "code",
   "execution_count": null,
   "id": "6336f120-317c-49fa-84bc-a96f26e159c2",
   "metadata": {},
   "outputs": [],
   "source": [
    "\\begin{align*}\n",
    "h_{i,j} \\cdot f_i = \\sum_{\\vert \\alpha \\vert = d_0+r} c_{i,j} b_\\alpha x^\\alpha\n",
    "\\end{align*}"
   ]
  }
 ],
 "metadata": {
  "kernelspec": {
   "display_name": "Julia 1.7.3",
   "language": "julia",
   "name": "julia-1.7"
  },
  "language_info": {
   "file_extension": ".jl",
   "mimetype": "application/julia",
   "name": "julia",
   "version": "1.7.3"
  }
 },
 "nbformat": 4,
 "nbformat_minor": 5
}
