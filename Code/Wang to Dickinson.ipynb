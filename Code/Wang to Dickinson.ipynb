{
 "cells": [
  {
   "cell_type": "code",
   "execution_count": 1,
   "id": "5118a089-792f-4b8e-8d34-222506c9ecb0",
   "metadata": {},
   "outputs": [],
   "source": [
    "using DynamicPolynomials,LinearAlgebra"
   ]
  },
  {
   "cell_type": "markdown",
   "id": "d68d0344-f79c-4dd1-965b-91476ab490c8",
   "metadata": {},
   "source": [
    "##  Input\n",
    "- Matrix $H$ and vector $d$ so that $\\mathcal{X} = \\lbrace x \\in \\mathbb{R}^n | Ax=c \\rbrace$\n",
    "- Signomial defined by Matrix $A^{m \\times n}$ and coeffiecients $c \\in \\mathbb{R}^m$\n",
    "##  Example"
   ]
  },
  {
   "cell_type": "code",
   "execution_count": 2,
   "id": "f3a71e96-7159-4bf9-aa2e-2063afa02d1f",
   "metadata": {},
   "outputs": [
    {
     "data": {
      "text/plain": [
       "3×2 Matrix{Rational{Int64}}:\n",
       " 3//2   0//1\n",
       " 0//1   1//1\n",
       " 0//1  -1//1"
      ]
     },
     "execution_count": 2,
     "metadata": {},
     "output_type": "execute_result"
    }
   ],
   "source": [
    "c = [1,-1,-1]\n",
    "A=[3//2 0;0 1;0 -1]"
   ]
  },
  {
   "cell_type": "code",
   "execution_count": 3,
   "id": "e6924e05-d1d7-4d89-a8e4-6692c3f2fd8a",
   "metadata": {},
   "outputs": [
    {
     "data": {
      "text/plain": [
       "4-element Vector{Int64}:\n",
       "  1\n",
       " -1\n",
       "  1\n",
       "  1"
      ]
     },
     "execution_count": 3,
     "metadata": {},
     "output_type": "execute_result"
    }
   ],
   "source": [
    "H=[1 0;-1 0;0 1;0 -1]\n",
    "d=[1,-1,1,1]"
   ]
  },
  {
   "cell_type": "markdown",
   "id": "2ad09d7e-8e4f-4972-a259-2590f26b9b5b",
   "metadata": {},
   "source": [
    "At first we need to calculate the leftinverse of A"
   ]
  },
  {
   "cell_type": "code",
   "execution_count": 4,
   "id": "ad84450d-d537-4b78-be68-57489fbb949c",
   "metadata": {},
   "outputs": [
    {
     "data": {
      "text/plain": [
       "rpinv (generic function with 1 method)"
      ]
     },
     "execution_count": 4,
     "metadata": {},
     "output_type": "execute_result"
    }
   ],
   "source": [
    "function rpinv(A) ## rational leftinverse\n",
    "    rA = Rational.(A)\n",
    "    B = (transpose(rA)*rA)\\transpose(rA)\n",
    "    return B\n",
    "end"
   ]
  },
  {
   "cell_type": "code",
   "execution_count": 5,
   "id": "d0493f51-c969-4274-b52a-f887ba2aea5f",
   "metadata": {},
   "outputs": [
    {
     "data": {
      "text/plain": [
       "getSupport (generic function with 1 method)"
      ]
     },
     "execution_count": 5,
     "metadata": {},
     "output_type": "execute_result"
    }
   ],
   "source": [
    "function getSupport(B,d)\n",
    "    Supp=[]\n",
    "    nvars=size(B)[2]\n",
    "    # print(nvars)\n",
    "    for (i,row) in enumerate(eachrow(B))\n",
    "        P=[]\n",
    "        N=[]\n",
    "        denom=lcm(denominator.(row))\n",
    "        for (j,ele) in enumerate(row)\n",
    "            if ele >= 0\n",
    "                push!(P,(Int(ele*denom),j))\n",
    "            else\n",
    "                push!(N,(Int(-ele*denom),j))\n",
    "            end\n",
    "        end\n",
    "\n",
    "\n",
    "\n",
    "\n",
    "        pdegree=sum(Int[x[1] for x in P])\n",
    "        ndegree=sum(Int[x[1] for x in N])\n",
    "        if pdegree>ndegree\n",
    "            push!(N,(pdegree-ndegree,nvars+1))\n",
    "        elseif pdegree<ndegree\n",
    "            push!(P,(ndegree-pdegree,nvars+1))   \n",
    "        end\n",
    "        push!(Supp,(P,N,denom*d[i]))\n",
    "    end\n",
    "    return Supp\n",
    "end"
   ]
  },
  {
   "cell_type": "code",
   "execution_count": 6,
   "id": "5a86c3d9-0137-41ae-bc1c-8d00ced7c73b",
   "metadata": {},
   "outputs": [
    {
     "data": {
      "text/plain": [
       "getSASet (generic function with 1 method)"
      ]
     },
     "execution_count": 6,
     "metadata": {},
     "output_type": "execute_result"
    }
   ],
   "source": [
    "function getSASet(Supp)\n",
    "    F=[]\n",
    "    for ele in Supp\n",
    "        s=ele\n",
    "        P=s[1]\n",
    "        N=s[2]\n",
    "        dᵢ=s[3]\n",
    "        deg = size(P)[1]+size(N)[1]\n",
    "        @polyvar x[1:deg]\n",
    "        f=x[1]*0\n",
    "        ## Add positive part\n",
    "        p=x[1]*0+1\n",
    "        for ele in P\n",
    "            p=p*x[ele[2]]^ele[1]\n",
    "        end\n",
    "        f=f-p\n",
    "        ##Add negative part\n",
    "        p=x[1]*0+ℯ^dᵢ\n",
    "        for ele in N\n",
    "            p=p*x[ele[2]]^ele[1]\n",
    "        end\n",
    "        f=f+p\n",
    "        push!(F,f)\n",
    "    end\n",
    "    return F\n",
    "end"
   ]
  },
  {
   "cell_type": "code",
   "execution_count": 7,
   "id": "339534a4-c4a6-4c2c-ad88-b78642864c0e",
   "metadata": {},
   "outputs": [
    {
     "data": {
      "text/plain": [
       "SASbyMatrix (generic function with 1 method)"
      ]
     },
     "execution_count": 7,
     "metadata": {},
     "output_type": "execute_result"
    }
   ],
   "source": [
    "function SASbyMatrix(A,H,c,d)\n",
    "    ##ToDo Check Dimensions\n",
    "    L=rpinv(A)\n",
    "    B=H*L\n",
    "    Supp=getSupport(B,d)\n",
    "    return getSASet(Supp)\n",
    "end"
   ]
  },
  {
   "cell_type": "code",
   "execution_count": 8,
   "id": "17d8c637-7e03-4c44-82a0-8863f0f169fd",
   "metadata": {},
   "outputs": [
    {
     "data": {
      "text/plain": [
       "4-element Vector{Any}:\n",
       " -x₁² + 20.085536923187668x₄²\n",
       " 0.049787068367863944x₁² - x₄²\n",
       " -x₂ + 7.38905609893065x₃\n",
       " 7.38905609893065x₂ - x₃"
      ]
     },
     "execution_count": 8,
     "metadata": {},
     "output_type": "execute_result"
    }
   ],
   "source": [
    "SASbyMatrix(A,H,c,d)"
   ]
  },
  {
   "cell_type": "code",
   "execution_count": null,
   "id": "2e507814-87f6-4697-ad7f-ffadc108c28e",
   "metadata": {},
   "outputs": [],
   "source": []
  },
  {
   "cell_type": "code",
   "execution_count": null,
   "id": "e91297ff-ae44-47c0-b4c7-bafb9117ade8",
   "metadata": {},
   "outputs": [],
   "source": []
  }
 ],
 "metadata": {
  "kernelspec": {
   "display_name": "Julia 1.7.3",
   "language": "julia",
   "name": "julia-1.7"
  },
  "language_info": {
   "file_extension": ".jl",
   "mimetype": "application/julia",
   "name": "julia",
   "version": "1.7.3"
  }
 },
 "nbformat": 4,
 "nbformat_minor": 5
}
