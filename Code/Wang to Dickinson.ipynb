{
 "cells": [
  {
   "cell_type": "code",
   "execution_count": 1,
   "id": "5118a089-792f-4b8e-8d34-222506c9ecb0",
   "metadata": {},
   "outputs": [],
   "source": [
    "using LinearAlgebra"
   ]
  },
  {
   "cell_type": "code",
   "execution_count": 2,
   "id": "97fbfd32-530d-4b15-a8d8-cff3e60e8e91",
   "metadata": {},
   "outputs": [
    {
     "data": {
      "text/plain": [
       "3×3 Matrix{Int64}:\n",
       " 1  2  3\n",
       " 4  1  6\n",
       " 7  8  1"
      ]
     },
     "execution_count": 2,
     "metadata": {},
     "output_type": "execute_result"
    }
   ],
   "source": [
    "C = [1 2 3; 4 1 6; 7 8 1]"
   ]
  },
  {
   "cell_type": "code",
   "execution_count": 3,
   "id": "b89adce3-354c-4f76-85fe-463d6b8de782",
   "metadata": {},
   "outputs": [
    {
     "data": {
      "text/plain": [
       "4×3 Matrix{Int64}:\n",
       " 1  1  5\n",
       " 9  8  1\n",
       " 5  3  6\n",
       " 8  2  5"
      ]
     },
     "execution_count": 3,
     "metadata": {},
     "output_type": "execute_result"
    }
   ],
   "source": [
    "# Random Integer 4-3-Matrix\n",
    "B = rand(1:9,(4,3))"
   ]
  },
  {
   "cell_type": "code",
   "execution_count": 4,
   "id": "b3258f50-7108-4eaf-b15d-7a89dbd8f4d2",
   "metadata": {},
   "outputs": [
    {
     "data": {
      "text/plain": [
       "3×2 Matrix{Float64}:\n",
       " 1.5   0.0\n",
       " 0.0   1.0\n",
       " 0.0  -1.0"
      ]
     },
     "execution_count": 4,
     "metadata": {},
     "output_type": "execute_result"
    }
   ],
   "source": [
    "c= [1,-1,-1]\n",
    "A=[3/2 0 ; 0 1 ; 0 -1]"
   ]
  },
  {
   "cell_type": "code",
   "execution_count": 5,
   "id": "2aa8b85d-80c1-4600-b10c-f0fdacaa18fc",
   "metadata": {},
   "outputs": [
    {
     "ename": "LoadError",
     "evalue": "MethodError: no method matching (::Colon)(::Int64, ::Tuple{Int64, Int64})\n\u001b[0mClosest candidates are:\n\u001b[0m  (::Colon)(::T, ::Any, \u001b[91m::T\u001b[39m) where T<:Real at C:\\Users\\Bfhe\\AppData\\Local\\Programs\\Julia-1.7.2\\share\\julia\\base\\range.jl:41\n\u001b[0m  (::Colon)(::A, ::Any, \u001b[91m::C\u001b[39m) where {A<:Real, C<:Real} at C:\\Users\\Bfhe\\AppData\\Local\\Programs\\Julia-1.7.2\\share\\julia\\base\\range.jl:10\n\u001b[0m  (::Colon)(::T, ::Any, \u001b[91m::T\u001b[39m) where T at C:\\Users\\Bfhe\\AppData\\Local\\Programs\\Julia-1.7.2\\share\\julia\\base\\range.jl:40\n\u001b[0m  ...",
     "output_type": "error",
     "traceback": [
      "MethodError: no method matching (::Colon)(::Int64, ::Tuple{Int64, Int64})\n\u001b[0mClosest candidates are:\n\u001b[0m  (::Colon)(::T, ::Any, \u001b[91m::T\u001b[39m) where T<:Real at C:\\Users\\Bfhe\\AppData\\Local\\Programs\\Julia-1.7.2\\share\\julia\\base\\range.jl:41\n\u001b[0m  (::Colon)(::A, ::Any, \u001b[91m::C\u001b[39m) where {A<:Real, C<:Real} at C:\\Users\\Bfhe\\AppData\\Local\\Programs\\Julia-1.7.2\\share\\julia\\base\\range.jl:10\n\u001b[0m  (::Colon)(::T, ::Any, \u001b[91m::T\u001b[39m) where T at C:\\Users\\Bfhe\\AppData\\Local\\Programs\\Julia-1.7.2\\share\\julia\\base\\range.jl:40\n\u001b[0m  ...",
      "",
      "Stacktrace:",
      " [1] top-level scope",
      "   @ .\\In[5]:3",
      " [2] eval",
      "   @ .\\boot.jl:373 [inlined]",
      " [3] include_string(mapexpr::typeof(REPL.softscope), mod::Module, code::String, filename::String)",
      "   @ Base .\\loading.jl:1196"
     ]
    }
   ],
   "source": [
    "#Construct x\n",
    "x=[]\n",
    "for i in 1:size(A)\n",
    "    push(x,i)\n",
    "end\n",
    "x"
   ]
  },
  {
   "cell_type": "code",
   "execution_count": 6,
   "id": "e4e7ab98-5a75-4f76-bc5f-dcfb1a85ba59",
   "metadata": {},
   "outputs": [
    {
     "ename": "LoadError",
     "evalue": "UndefVarError: x_2 not defined",
     "output_type": "error",
     "traceback": [
      "UndefVarError: x_2 not defined",
      "",
      "Stacktrace:",
      " [1] top-level scope",
      "   @ :0",
      " [2] eval",
      "   @ .\\boot.jl:373 [inlined]",
      " [3] include_string(mapexpr::typeof(REPL.softscope), mod::Module, code::String, filename::String)",
      "   @ Base .\\loading.jl:1196"
     ]
    }
   ],
   "source": [
    "x_2"
   ]
  },
  {
   "cell_type": "code",
   "execution_count": null,
   "id": "8aa1a618-b4a0-4652-a4ba-87c82f37c1e2",
   "metadata": {},
   "outputs": [],
   "source": []
  }
 ],
 "metadata": {
  "kernelspec": {
   "display_name": "Julia 1.7.2",
   "language": "julia",
   "name": "julia-1.7"
  },
  "language_info": {
   "file_extension": ".jl",
   "mimetype": "application/julia",
   "name": "julia",
   "version": "1.7.2"
  }
 },
 "nbformat": 4,
 "nbformat_minor": 5
}
